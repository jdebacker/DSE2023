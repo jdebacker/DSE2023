{
 "cells": [
  {
   "cell_type": "markdown",
   "metadata": {},
   "source": [
    "# Introduction to Dask graphs\n",
    "\n",
    "In this notebook we see how to run functions concurrently using Dask graphs.\n",
    "\n",
    "We are going to use a simple example: computing the square of two numbers and adding the results. A real use case would be, of course, when dealing with time-consuming functions. That could be expensive IO operations, for instance. We are going to simulate expensive IO operation by adding a `time.sleep(1)` to our functions.\n",
    "\n",
    "On a regular python program (unless we use numpy arrays) we would do the following:\n",
    " - x1 = square of the first number\n",
    " - x2 = square of the second number\n",
    " - x = x1 + x2\n",
    " \n",
    "Using Dask, we are going to transform that to\n",
    " - (x1 = square of the first number, x2 = square of the first number)  # computed at the same time!\n",
    " - x = x1 + x2"
   ]
  },
  {
   "cell_type": "code",
   "execution_count": null,
   "metadata": {},
   "outputs": [],
   "source": [
    "import dask\n",
    "import time"
   ]
  },
  {
   "cell_type": "code",
   "execution_count": null,
   "metadata": {},
   "outputs": [],
   "source": [
    "def square(n):\n",
    "    time.sleep(2)\n",
    "    return n * n\n",
    "    \n",
    "def add(m, n):\n",
    "    time.sleep(2)\n",
    "    return m + n"
   ]
  },
  {
   "cell_type": "code",
   "execution_count": null,
   "metadata": {},
   "outputs": [],
   "source": [
    "%%time \n",
    "\n",
    "x = square(1)\n",
    "y = square(2)\n",
    "z = add(x, y)"
   ]
  },
  {
   "cell_type": "markdown",
   "metadata": {},
   "source": [
    "***\n",
    "\n",
    "## Building a computational graph"
   ]
  },
  {
   "cell_type": "code",
   "execution_count": null,
   "metadata": {},
   "outputs": [],
   "source": [
    "x = dask.delayed(square)(1)\n",
    "y = dask.delayed(square)(2)\n",
    "z = dask.delayed(add)(x, y)"
   ]
  },
  {
   "cell_type": "code",
   "execution_count": null,
   "metadata": {},
   "outputs": [],
   "source": [
    "z.visualize(rankdir='LR')"
   ]
  },
  {
   "cell_type": "code",
   "execution_count": null,
   "metadata": {},
   "outputs": [],
   "source": [
    "z.visualize(rankdir='LR', optimize_graph=True, color='order',\n",
    "            cmap='autumn', node_attr={'penwidth': '2'})"
   ]
  },
  {
   "cell_type": "code",
   "execution_count": null,
   "metadata": {},
   "outputs": [],
   "source": [
    "%%time\n",
    "z.compute()"
   ]
  }
 ],
 "metadata": {
  "kernelspec": {
   "display_name": "Python 3 (ipykernel)",
   "language": "python",
   "name": "python3"
  },
  "language_info": {
   "codemirror_mode": {
    "name": "ipython",
    "version": 3
   },
   "file_extension": ".py",
   "mimetype": "text/x-python",
   "name": "python",
   "nbconvert_exporter": "python",
   "pygments_lexer": "ipython3",
   "version": "3.9.15"
  }
 },
 "nbformat": 4,
 "nbformat_minor": 4
}
