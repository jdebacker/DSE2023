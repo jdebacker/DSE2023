{
 "cells": [
  {
   "cell_type": "markdown",
   "id": "a78f6dd8",
   "metadata": {},
   "source": [
    "# Inventory management via Python / JAX / linear operators"
   ]
  },
  {
   "cell_type": "code",
   "execution_count": 37,
   "id": "3abe74f6",
   "metadata": {
    "execution": {
     "iopub.execute_input": "2023-08-20T09:37:40.394158Z",
     "iopub.status.busy": "2023-08-20T09:37:40.393432Z",
     "iopub.status.idle": "2023-08-20T09:37:41.221290Z",
     "shell.execute_reply": "2023-08-20T09:37:41.220814Z"
    },
    "lines_to_next_cell": 1
   },
   "outputs": [],
   "source": [
    "import quantecon as qe\n",
    "import numpy as np\n",
    "from collections import namedtuple\n",
    "from numba import njit, prange, int32\n",
    "import jax\n",
    "import jax.numpy as jnp\n",
    "import matplotlib.pyplot as plt\n",
    "import sys"
   ]
  },
  {
   "cell_type": "markdown",
   "id": "cceb855d",
   "metadata": {},
   "source": [
    "## Model and Primitives"
   ]
  },
  {
   "cell_type": "code",
   "execution_count": 38,
   "id": "93c43e8b",
   "metadata": {
    "execution": {
     "iopub.execute_input": "2023-08-20T09:37:41.223329Z",
     "iopub.status.busy": "2023-08-20T09:37:41.223097Z",
     "iopub.status.idle": "2023-08-20T09:37:41.225734Z",
     "shell.execute_reply": "2023-08-20T09:37:41.225327Z"
    },
    "lines_to_next_cell": 1
   },
   "outputs": [],
   "source": [
    "def f(y, a, d):\n",
    "    \" Inventory update rule. \"\n",
    "    return np.maximum(y - d, 0) + a "
   ]
  },
  {
   "cell_type": "code",
   "execution_count": 39,
   "id": "a97c24d7",
   "metadata": {
    "execution": {
     "iopub.execute_input": "2023-08-20T09:37:41.227349Z",
     "iopub.status.busy": "2023-08-20T09:37:41.227175Z",
     "iopub.status.idle": "2023-08-20T09:37:41.229591Z",
     "shell.execute_reply": "2023-08-20T09:37:41.229173Z"
    },
    "lines_to_next_cell": 1
   },
   "outputs": [],
   "source": [
    "Params = namedtuple(   # Stores model parameters\n",
    "         \"Params\", (\"K\", \"c\", \"κ\", \"p\"))"
   ]
  },
  {
   "cell_type": "code",
   "execution_count": 40,
   "id": "5795c92d",
   "metadata": {
    "execution": {
     "iopub.execute_input": "2023-08-20T09:37:41.231175Z",
     "iopub.status.busy": "2023-08-20T09:37:41.231005Z",
     "iopub.status.idle": "2023-08-20T09:37:41.234500Z",
     "shell.execute_reply": "2023-08-20T09:37:41.234082Z"
    }
   },
   "outputs": [],
   "source": [
    "def build_R(params, y_vals, d_vals, ϕ_vals):\n",
    "    K, c, κ, p = params\n",
    "    n_y = K + 1\n",
    "    n_d = len(d_vals)\n",
    "    # Create R[y, a, yp, d] and then sum out last dimension\n",
    "    y  = np.reshape(y_vals, (n_y, 1, 1, 1))\n",
    "    a  = np.reshape(y_vals, (1, n_y, 1, 1))\n",
    "    yp = np.reshape(y_vals, (1, 1, n_y, 1))\n",
    "    d  = np.reshape(d_vals, (1, 1, 1, n_d))\n",
    "    ϕ  = np.reshape(ϕ_vals, (1, 1, 1, n_d))\n",
    "    feasible = a <= K - y\n",
    "    temp = (f(y, a, d_vals) == yp) * feasible\n",
    "    R = np.sum(temp * ϕ_vals, axis=3)\n",
    "    return R"
   ]
  },
  {
   "cell_type": "code",
   "execution_count": 41,
   "id": "86598a07",
   "metadata": {
    "execution": {
     "iopub.execute_input": "2023-08-20T09:37:41.236160Z",
     "iopub.status.busy": "2023-08-20T09:37:41.236002Z",
     "iopub.status.idle": "2023-08-20T09:37:41.239543Z",
     "shell.execute_reply": "2023-08-20T09:37:41.239095Z"
    }
   },
   "outputs": [],
   "source": [
    "def build_r(params, y_vals, d_vals, ϕ_vals):\n",
    "    K, c, κ, p = params\n",
    "    n_y = K + 1\n",
    "    n_d = len(d_vals)\n",
    "    y = np.reshape(y_vals, (n_y, 1))\n",
    "    d = np.reshape(d_vals, (1, n_d))\n",
    "    ϕ = np.reshape(ϕ_vals, (1, n_d))\n",
    "    revenue = np.minimum(y, d) * ϕ \n",
    "    exp_revenue = np.sum(revenue, axis=1)\n",
    "    exp_revenue = np.reshape(exp_revenue, (n_y, 1))\n",
    "    a = np.reshape(y_vals, (1, n_y))\n",
    "    cost = c * a + κ * (a > 0)\n",
    "    exp_profit = exp_revenue - cost\n",
    "    feasible = a <= K - y\n",
    "    r = np.where(feasible, exp_profit, -np.inf)\n",
    "    return r"
   ]
  },
  {
   "cell_type": "code",
   "execution_count": 42,
   "id": "334a573a",
   "metadata": {
    "execution": {
     "iopub.execute_input": "2023-08-20T09:37:41.241271Z",
     "iopub.status.busy": "2023-08-20T09:37:41.240898Z",
     "iopub.status.idle": "2023-08-20T09:37:41.243102Z",
     "shell.execute_reply": "2023-08-20T09:37:41.242814Z"
    }
   },
   "outputs": [],
   "source": [
    "Arrays = namedtuple(  # Stores arrays for model\n",
    "         \"Arrays\", (\"r\", \"R\", \"y_vals\", \"z_vals\", \"Q\"))"
   ]
  },
  {
   "cell_type": "code",
   "execution_count": 43,
   "id": "0f878ff8",
   "metadata": {
    "execution": {
     "iopub.execute_input": "2023-08-20T09:37:41.244881Z",
     "iopub.status.busy": "2023-08-20T09:37:41.244501Z",
     "iopub.status.idle": "2023-08-20T09:37:41.246788Z",
     "shell.execute_reply": "2023-08-20T09:37:41.246415Z"
    },
    "lines_to_next_cell": 1
   },
   "outputs": [],
   "source": [
    "Model = namedtuple(   # Stores all model data\n",
    "        \"Model\", (\"params\", \"sizes\", \"arrays\"))"
   ]
  },
  {
   "cell_type": "code",
   "execution_count": 44,
   "id": "9f5a54c0",
   "metadata": {
    "execution": {
     "iopub.execute_input": "2023-08-20T09:37:41.248508Z",
     "iopub.status.busy": "2023-08-20T09:37:41.248174Z",
     "iopub.status.idle": "2023-08-20T09:37:41.252788Z",
     "shell.execute_reply": "2023-08-20T09:37:41.252373Z"
    }
   },
   "outputs": [],
   "source": [
    "def create_sdd_inventory_model(ρ=0.98,        # Z persistence\n",
    "                               ν=0.002,       # Z volatility\n",
    "                               n_z=12,        # size of Z grid\n",
    "                               b=0.97,        # Z mean\n",
    "                               K=100,         # max inventory        \n",
    "                               d_max=100,     # max value of d\n",
    "                               c=0.2,         # unit cost\n",
    "                               κ=0.8,         # fixed cost\n",
    "                               p=0.6):        # demand parameter\n",
    "\n",
    "    \"\"\"\n",
    "    Stores inventory management model primitives and default values.\n",
    "\n",
    "    The discount factor takes the form β_t = Z_t, where (Z_t) is a \n",
    "    Tauchen discretization of the Gaussian AR(1) process \n",
    "\n",
    "        Z_t = ρ Z_{t-1} + b + ν W_t.\n",
    "\n",
    "    \"\"\"\n",
    "\n",
    "\n",
    "    n_y = K + 1               # size of state space\n",
    "    y_vals = np.arange(n_y)   # inventory levels 0,...,K\n",
    "\n",
    "    # Construct r and R arrays\n",
    "    def ϕ(d):\n",
    "        return (1 - p)**d * p                      \n",
    "    d_vals = np.arange(d_max)\n",
    "    ϕ_vals = ϕ(d_vals)\n",
    "\n",
    "    # Build the exogenous discount process \n",
    "    mc = qe.tauchen(n_z, ρ, ν)\n",
    "    z_vals, Q = mc.state_values + b, mc.P\n",
    "\n",
    "    # Test spectral radius condition\n",
    "    ρL = np.max(np.abs(np.linalg.eigvals(z_vals * Q)))     \n",
    "    if ρL >= 1:\n",
    "        raise NotImplementedError(\"Error: ρ(L) ≥ 1.\")\n",
    "    else:\n",
    "        print(f\"Building model with ρ(L) = {ρL}\")\n",
    "\n",
    "    # Build namedtuples and return them\n",
    "    params = Params(K=K, c=c, κ=κ, p=p)\n",
    "    r = build_r(params, y_vals, d_vals, ϕ_vals)\n",
    "    R = build_R(params, y_vals, d_vals, ϕ_vals)\n",
    "\n",
    "    arrays = Arrays(r=r, R=R, y_vals=y_vals, z_vals=z_vals, Q=Q)\n",
    "    sizes = n_y, n_z\n",
    "    return Model(params=params, sizes=sizes, arrays=arrays)"
   ]
  },
  {
   "cell_type": "markdown",
   "id": "58003765",
   "metadata": {},
   "source": [
    "## DP algorithms"
   ]
  },
  {
   "cell_type": "code",
   "execution_count": 45,
   "id": "c50d2d60",
   "metadata": {
    "execution": {
     "iopub.execute_input": "2023-08-20T09:37:41.254234Z",
     "iopub.status.busy": "2023-08-20T09:37:41.254112Z",
     "iopub.status.idle": "2023-08-20T09:37:41.257584Z",
     "shell.execute_reply": "2023-08-20T09:37:41.257167Z"
    }
   },
   "outputs": [],
   "source": [
    "def value_function_iteration(v_init, \n",
    "                             T,\n",
    "                             get_greedy,\n",
    "                             tolerance=1e-6,        # Error tolerance\n",
    "                             max_iter=10_000,       # Max iteration bound\n",
    "                             print_step=25,         # Print at multiples\n",
    "                             verbose=False,\n",
    "                             usejax=False):\n",
    "    \"\"\"\n",
    "        Compute v_star via VFI and then compute greedy.\n",
    "    \"\"\"\n",
    "    array_lib = jnp if usejax else np\n",
    "\n",
    "    v = v_init\n",
    "    error = tolerance + 1\n",
    "    k = 1\n",
    "    while error > tolerance and k <= max_iter:\n",
    "        v_new = T(v)\n",
    "        error = array_lib.max(array_lib.abs(v_new - v))\n",
    "        if verbose and (k % print_step) == 0:\n",
    "            print(f\"Completed iteration {k} with error {error}.\")\n",
    "        v = v_new\n",
    "        k += 1\n",
    "    if error > tolerance:\n",
    "        print(f\"Warning: Iteration hit upper bound {max_iter}.\")\n",
    "    elif verbose:\n",
    "        print(f\"VFI terminated successfully in {k} iterations.\")\n",
    "    v_star = v\n",
    "    σ_star = get_greedy(v_star)\n",
    "    return v_star, σ_star"
   ]
  },
  {
   "cell_type": "code",
   "execution_count": 46,
   "id": "625a5201",
   "metadata": {
    "execution": {
     "iopub.execute_input": "2023-08-20T09:37:41.259201Z",
     "iopub.status.busy": "2023-08-20T09:37:41.259078Z",
     "iopub.status.idle": "2023-08-20T09:37:41.262735Z",
     "shell.execute_reply": "2023-08-20T09:37:41.262254Z"
    }
   },
   "outputs": [],
   "source": [
    "def optimistic_policy_iteration(v_init, \n",
    "                                T_σ,\n",
    "                                get_greedy,\n",
    "                                m=20,\n",
    "                                tolerance=1e-6, \n",
    "                                max_iter=1_000,\n",
    "                                print_step=10,\n",
    "                                verbose=False,\n",
    "                                usejax=False):\n",
    "    \"Optimistic policy iteration routine.\"\n",
    "    \n",
    "    array_lib = jnp if usejax else np\n",
    "    v = v_init\n",
    "    error = tolerance + 1\n",
    "    k = 1\n",
    "    while error > tolerance and k < max_iter:\n",
    "        last_v = v\n",
    "        σ = get_greedy(v)\n",
    "        for i in range(m):\n",
    "            v = T_σ(v, σ)\n",
    "        error = array_lib.max(array_lib.abs(v - last_v))\n",
    "        if verbose and k % print_step == 0:\n",
    "            print(f\"Completed iteration {k} with error {error}.\")\n",
    "        k += 1\n",
    "    if error > tolerance:\n",
    "        print(f\"Warning: Iteration hit upper bound {max_iter}.\")\n",
    "    else: \n",
    "        print(f\"OPI terminated successfully in {k} iterations (m = {m}).\")\n",
    "    return v, get_greedy(v)"
   ]
  },
  {
   "cell_type": "code",
   "execution_count": 47,
   "id": "2872ba6c",
   "metadata": {
    "execution": {
     "iopub.execute_input": "2023-08-20T09:37:41.264385Z",
     "iopub.status.busy": "2023-08-20T09:37:41.264147Z",
     "iopub.status.idle": "2023-08-20T09:37:41.267404Z",
     "shell.execute_reply": "2023-08-20T09:37:41.266990Z"
    }
   },
   "outputs": [],
   "source": [
    "def howard_policy_iteration(v_init, \n",
    "                            get_value,\n",
    "                            get_greedy,\n",
    "                            verbose=False,\n",
    "                            usejax=False):\n",
    "    \"Howard policy iteration routine.\"\n",
    "    array_lib = jnp if usejax else np\n",
    "\n",
    "    σ = get_greedy(v_init)\n",
    "    i, error = 0, 1.0\n",
    "    while error > 0:\n",
    "        v_σ = get_value(σ)\n",
    "        σ_new = get_greedy(v_σ)\n",
    "        error = array_lib.max(array_lib.abs(σ_new - σ))\n",
    "        σ = σ_new\n",
    "        i = i + 1\n",
    "        if verbose:\n",
    "            print(f\"Concluded loop {i} with error {error}.\")\n",
    "    print(f\"HPI converged in {i} iteration(s).\")\n",
    "    return v_σ, σ"
   ]
  },
  {
   "cell_type": "markdown",
   "id": "aaf9aa68",
   "metadata": {},
   "source": [
    "## Code for simulations and plots"
   ]
  },
  {
   "cell_type": "code",
   "execution_count": 48,
   "id": "75bb0c62",
   "metadata": {
    "execution": {
     "iopub.execute_input": "2023-08-20T09:37:41.269114Z",
     "iopub.status.busy": "2023-08-20T09:37:41.268873Z",
     "iopub.status.idle": "2023-08-20T09:37:41.272546Z",
     "shell.execute_reply": "2023-08-20T09:37:41.272114Z"
    }
   },
   "outputs": [],
   "source": [
    "def sim_inventories(model, σ_star, ts_length, Y_init=0, seed=500):\n",
    "    \"\"\"\n",
    "        Simulate inventory dynamics and interest rates given an \n",
    "        optimal policy σ_star.\n",
    "    \"\"\"\n",
    "    # Set up\n",
    "    np.random.seed(seed)\n",
    "    K, c, κ, p = model.params\n",
    "    r, R, y_vals, z_vals, Q = model.arrays\n",
    "\n",
    "    # Generate Markov chain for discount factor\n",
    "    z_mc = qe.MarkovChain(Q, z_vals)\n",
    "    i_z = z_mc.simulate_indices(ts_length, init=1, random_state=seed)\n",
    "\n",
    "    # Generate corresponding inventory series\n",
    "    Y = np.zeros(ts_length, dtype=int)\n",
    "    Y[0] = Y_init\n",
    "    for t in range(ts_length - 1):\n",
    "        D = np.random.geometric(p) - 1\n",
    "        a = σ_star[Y[t], i_z[t]] \n",
    "        Y[t+1] = f(Y[t],  a,  D)\n",
    "\n",
    "    # Return both series\n",
    "    return Y, z_vals[i_z]"
   ]
  },
  {
   "cell_type": "code",
   "execution_count": 49,
   "id": "3f523cae",
   "metadata": {
    "execution": {
     "iopub.execute_input": "2023-08-20T09:37:41.273987Z",
     "iopub.status.busy": "2023-08-20T09:37:41.273866Z",
     "iopub.status.idle": "2023-08-20T09:37:41.277424Z",
     "shell.execute_reply": "2023-08-20T09:37:41.277014Z"
    }
   },
   "outputs": [],
   "source": [
    "def plot_ts(model,\n",
    "            σ_star,\n",
    "            ts_length=400,\n",
    "            fontsize=12, \n",
    "            figname=\"ts.pdf\",\n",
    "            savefig=False):\n",
    "    \"\"\"\n",
    "        Solve model, plot a time series of inventory and interest rates.\n",
    "\n",
    "    \"\"\"\n",
    "\n",
    "    # Obtain inventory and discount factor series\n",
    "    Y, Z = sim_inventories(model, σ_star, ts_length)\n",
    "    r = (1 / Z) - 1 # calculate interest rate from discount factors\n",
    "\n",
    "    # Plot\n",
    "    fig, axes = plt.subplots(2, 1, figsize=(9, 5.5))\n",
    "    ax = axes[0]\n",
    "    ax.plot(Y, label=\"inventory\", alpha=0.7)\n",
    "    ax.set_xlabel(\"time\", fontsize=fontsize)\n",
    "    ax.legend(fontsize=fontsize, frameon=False)\n",
    "    ax.set_ylim(0, np.max(Y)+3)\n",
    "    ax = axes[1]\n",
    "    ax.plot(r, label=\"$r_t$\", alpha=0.7)\n",
    "    ax.set_xlabel(\"$t$\", fontsize=fontsize)\n",
    "    ax.legend(fontsize=fontsize, frameon=False)\n",
    "    plt.tight_layout()\n",
    "    plt.show()\n",
    "    if savefig:\n",
    "        fig.savefig(figname)"
   ]
  },
  {
   "cell_type": "code",
   "execution_count": null,
   "id": "96cd13e2",
   "metadata": {},
   "outputs": [],
   "source": []
  },
  {
   "cell_type": "code",
   "execution_count": 50,
   "id": "4cbcb496",
   "metadata": {
    "execution": {
     "iopub.execute_input": "2023-08-20T09:37:41.278929Z",
     "iopub.status.busy": "2023-08-20T09:37:41.278808Z",
     "iopub.status.idle": "2023-08-20T09:37:41.282176Z",
     "shell.execute_reply": "2023-08-20T09:37:41.281761Z"
    }
   },
   "outputs": [],
   "source": [
    "def plot_timing(hpi_time, \n",
    "                vfi_time,\n",
    "                opi_times,\n",
    "                m_vals, \n",
    "                figname=\"timing.pdf\",\n",
    "                fontsize=12,\n",
    "                savefig=False):\n",
    "    \"\"\"\n",
    "    Plot relative timing of different algorithms.\n",
    "\n",
    "    \"\"\"\n",
    "    fig, ax = plt.subplots(figsize=(9, 5.2))\n",
    "\n",
    "    y_values = (np.full(len(m_vals), vfi_time), \n",
    "                np.full(len(m_vals), hpi_time),\n",
    "                opi_times)\n",
    "    labels = \"VFI\", \"HPI\", \"OPI\"\n",
    "\n",
    "    for y_vals, label in zip(y_values, labels):\n",
    "        ax.plot(m_vals, y_vals, lw=2, label=label)\n",
    "\n",
    "    ax.legend(fontsize=fontsize, frameon=False)\n",
    "    ax.set_xlabel(\"$m$\", fontsize=fontsize)\n",
    "    ax.set_ylabel(\"time\", fontsize=fontsize)\n",
    "    plt.show()\n",
    "\n",
    "    if savefig:\n",
    "        fig.savefig(figname)"
   ]
  },
  {
   "cell_type": "code",
   "execution_count": null,
   "id": "2f4a3405",
   "metadata": {
    "lines_to_next_cell": 2
   },
   "outputs": [],
   "source": []
  },
  {
   "cell_type": "code",
   "execution_count": 51,
   "id": "572b3f2c",
   "metadata": {
    "execution": {
     "iopub.execute_input": "2023-08-20T09:37:41.283705Z",
     "iopub.status.busy": "2023-08-20T09:37:41.283585Z",
     "iopub.status.idle": "2023-08-20T09:37:41.285919Z",
     "shell.execute_reply": "2023-08-20T09:37:41.285508Z"
    },
    "lines_to_next_cell": 1
   },
   "outputs": [],
   "source": [
    "jax.config.update(\"jax_enable_x64\", True)"
   ]
  },
  {
   "cell_type": "code",
   "execution_count": 52,
   "id": "c4c368a3",
   "metadata": {
    "execution": {
     "iopub.execute_input": "2023-08-20T09:37:41.287389Z",
     "iopub.status.busy": "2023-08-20T09:37:41.287269Z",
     "iopub.status.idle": "2023-08-20T09:37:41.289801Z",
     "shell.execute_reply": "2023-08-20T09:37:41.289490Z"
    }
   },
   "outputs": [],
   "source": [
    "@jax.jit\n",
    "def f(y, a, d):\n",
    "    \" Inventory update. \"\n",
    "    return jnp.maximum(y - d, 0) + a "
   ]
  },
  {
   "cell_type": "code",
   "execution_count": 53,
   "id": "264196c6",
   "metadata": {
    "execution": {
     "iopub.execute_input": "2023-08-20T09:37:41.291239Z",
     "iopub.status.busy": "2023-08-20T09:37:41.291116Z",
     "iopub.status.idle": "2023-08-20T09:37:41.293221Z",
     "shell.execute_reply": "2023-08-20T09:37:41.292913Z"
    }
   },
   "outputs": [],
   "source": [
    "JAXModel = namedtuple(\"Model\", \n",
    "                      (\"params\", \"sizes\", \"arrays\"))"
   ]
  },
  {
   "cell_type": "code",
   "execution_count": 54,
   "id": "e83dedb4",
   "metadata": {
    "execution": {
     "iopub.execute_input": "2023-08-20T09:37:41.294922Z",
     "iopub.status.busy": "2023-08-20T09:37:41.294514Z",
     "iopub.status.idle": "2023-08-20T09:37:41.297180Z",
     "shell.execute_reply": "2023-08-20T09:37:41.296737Z"
    }
   },
   "outputs": [],
   "source": [
    "def create_sdd_inventory_model_jax():\n",
    "\n",
    "    model = create_sdd_inventory_model()\n",
    "    params = model.params\n",
    "    sizes = model.sizes\n",
    "    arrays = [jax.device_put(a) for a in model.arrays]\n",
    "\n",
    "    return JAXModel(params, sizes, arrays)"
   ]
  },
  {
   "cell_type": "markdown",
   "id": "e59318b2",
   "metadata": {},
   "source": [
    "# Operators and functions "
   ]
  },
  {
   "cell_type": "code",
   "execution_count": 55,
   "id": "fad4e6fb",
   "metadata": {
    "execution": {
     "iopub.execute_input": "2023-08-20T09:37:41.298837Z",
     "iopub.status.busy": "2023-08-20T09:37:41.298489Z",
     "iopub.status.idle": "2023-08-20T09:37:41.301756Z",
     "shell.execute_reply": "2023-08-20T09:37:41.301388Z"
    }
   },
   "outputs": [],
   "source": [
    "def B(v, params, sizes, arrays):\n",
    "    \"\"\"\n",
    "    Returns an array with indices (y, a, z) equal to\n",
    "\n",
    "         r(y, a) + β(z) Σ_{y′, z′} v(y′, z′) R(y, a, y′) Q(z, z′)\n",
    "\n",
    "    \"\"\"\n",
    "    # Set up\n",
    "    K, c, κ, p = params\n",
    "    r, R, y_vals, z_vals, Q = arrays\n",
    "    n_y, n_z = sizes\n",
    "    # broadcasting over     (y,   z,   a)\n",
    "    r = jnp.reshape(r,      (n_y, 1,   n_y))\n",
    "    β = jnp.reshape(z_vals, (1,   n_z, 1))\n",
    "    # broadcasting over  (y,   z,   a,   yp,   zp)\n",
    "    R = jnp.reshape(R,   (n_y, 1,   n_y, n_y,  1))\n",
    "    Q = jnp.reshape(Q,   (1,   n_z, 1,   1,    n_z))\n",
    "    v = jnp.reshape(v,   (1,   1,   1,   n_y,  n_z))\n",
    "\n",
    "    Ev = jnp.sum(v * R * Q, axis=(3, 4))\n",
    "    return r + β * Ev"
   ]
  },
  {
   "cell_type": "code",
   "execution_count": 56,
   "id": "6cb974fa",
   "metadata": {
    "execution": {
     "iopub.execute_input": "2023-08-20T09:37:41.303445Z",
     "iopub.status.busy": "2023-08-20T09:37:41.303102Z",
     "iopub.status.idle": "2023-08-20T09:37:41.305397Z",
     "shell.execute_reply": "2023-08-20T09:37:41.304987Z"
    }
   },
   "outputs": [],
   "source": [
    "def T(v, params, sizes, arrays):\n",
    "    \"The Bellman operator.\"\n",
    "    return jnp.max(B(v, params, sizes, arrays), axis=2)"
   ]
  },
  {
   "cell_type": "code",
   "execution_count": 57,
   "id": "b84208f0",
   "metadata": {
    "execution": {
     "iopub.execute_input": "2023-08-20T09:37:41.306903Z",
     "iopub.status.busy": "2023-08-20T09:37:41.306780Z",
     "iopub.status.idle": "2023-08-20T09:37:41.309142Z",
     "shell.execute_reply": "2023-08-20T09:37:41.308731Z"
    }
   },
   "outputs": [],
   "source": [
    "def get_greedy(v, params, sizes, arrays):\n",
    "    \"Get a v-greedy policy.\"\n",
    "    return jnp.argmax(B(v, params, sizes, arrays), axis=2)"
   ]
  },
  {
   "cell_type": "code",
   "execution_count": 58,
   "id": "56050bcc",
   "metadata": {
    "execution": {
     "iopub.execute_input": "2023-08-20T09:37:41.310818Z",
     "iopub.status.busy": "2023-08-20T09:37:41.310489Z",
     "iopub.status.idle": "2023-08-20T09:37:41.313161Z",
     "shell.execute_reply": "2023-08-20T09:37:41.312872Z"
    }
   },
   "outputs": [],
   "source": [
    "def compute_r_σ(σ, params, sizes, arrays):\n",
    "    # Set up\n",
    "    r, R, y_vals, z_vals, Q = arrays\n",
    "    n_y, n_z = sizes\n",
    "    z_idx = jnp.arange(n_z)\n",
    "    # Create r_σ with indices (y,   z)\n",
    "    y = jnp.reshape(y_vals,    (n_y, 1))\n",
    "    z = jnp.reshape(z_idx,     (1,   n_z))\n",
    "    r_σ = r[y, σ[y, z]]\n",
    "    return r_σ"
   ]
  },
  {
   "cell_type": "code",
   "execution_count": 59,
   "id": "67f60c30",
   "metadata": {
    "execution": {
     "iopub.execute_input": "2023-08-20T09:37:41.314995Z",
     "iopub.status.busy": "2023-08-20T09:37:41.314474Z",
     "iopub.status.idle": "2023-08-20T09:37:41.318159Z",
     "shell.execute_reply": "2023-08-20T09:37:41.317850Z"
    }
   },
   "outputs": [],
   "source": [
    "def L_σ(v, σ, params, sizes, arrays):\n",
    "    # Set up\n",
    "    r, R, y_vals, z_vals, Q = arrays\n",
    "    n_y, n_z = sizes\n",
    "    z_idx = jnp.arange(n_z)\n",
    "    # Set up R_σ with indices  (y,   z,   yp,  zp)\n",
    "    y  = jnp.reshape(y_vals,   (n_y, 1,   1,   1))\n",
    "    yp = jnp.reshape(y_vals,   (1,   1,   n_y, 1))\n",
    "    z  = jnp.reshape(z_idx,    (1,   n_z, 1,   1))\n",
    "    R_σ = R[y, σ[y, z], yp]\n",
    "    # Create L_σ with indices (y,   z,   yp,  zp)\n",
    "    β   = jnp.reshape(z_vals,  (1,   n_z, 1,   1))\n",
    "    Q   = jnp.reshape(Q,       (1,   n_z, 1,   n_z))\n",
    "    L_σ = β * R_σ * Q\n",
    "    # Reshape v[yp, zp] with indices (y, z, zp, yp)\n",
    "    v = jnp.reshape(v, (1, 1, n_y, n_z))\n",
    "    # Compute L_σ v and return\n",
    "    return jnp.sum(L_σ * v, axis=(2, 3))"
   ]
  },
  {
   "cell_type": "code",
   "execution_count": 60,
   "id": "0e079260",
   "metadata": {
    "execution": {
     "iopub.execute_input": "2023-08-20T09:37:41.319582Z",
     "iopub.status.busy": "2023-08-20T09:37:41.319458Z",
     "iopub.status.idle": "2023-08-20T09:37:41.321885Z",
     "shell.execute_reply": "2023-08-20T09:37:41.321456Z"
    }
   },
   "outputs": [],
   "source": [
    "def T_σ(v, σ, params, sizes, arrays):\n",
    "    \"The policy operator.\"\n",
    "    r_σ = compute_r_σ(σ, params, sizes, arrays)\n",
    "    return r_σ + L_σ(v, σ, params, sizes, arrays)"
   ]
  },
  {
   "cell_type": "code",
   "execution_count": 61,
   "id": "c13b11ed",
   "metadata": {
    "execution": {
     "iopub.execute_input": "2023-08-20T09:37:41.323266Z",
     "iopub.status.busy": "2023-08-20T09:37:41.323141Z",
     "iopub.status.idle": "2023-08-20T09:37:41.325728Z",
     "shell.execute_reply": "2023-08-20T09:37:41.325405Z"
    }
   },
   "outputs": [],
   "source": [
    "def get_value(σ, params, sizes, arrays):\n",
    "    # Set up A_σ v = (I - L_σ) v\n",
    "    A_σ = lambda v: v - L_σ(v, σ, params, sizes, arrays)\n",
    "    # Call solver and return A_σ^{-1} r_σ\n",
    "    r_σ = compute_r_σ(σ, params, sizes, arrays)\n",
    "    return jax.scipy.sparse.linalg.bicgstab(A_σ, r_σ)[0]"
   ]
  },
  {
   "cell_type": "code",
   "execution_count": null,
   "id": "20fd79b3",
   "metadata": {},
   "outputs": [],
   "source": []
  },
  {
   "cell_type": "markdown",
   "id": "f6032364",
   "metadata": {},
   "source": [
    "# JIT compile functions and operators "
   ]
  },
  {
   "cell_type": "code",
   "execution_count": 62,
   "id": "912aaa64",
   "metadata": {
    "execution": {
     "iopub.execute_input": "2023-08-20T09:37:41.327337Z",
     "iopub.status.busy": "2023-08-20T09:37:41.327044Z",
     "iopub.status.idle": "2023-08-20T09:37:41.330593Z",
     "shell.execute_reply": "2023-08-20T09:37:41.330162Z"
    }
   },
   "outputs": [],
   "source": [
    "B = jax.jit(B, static_argnums=(2,))\n",
    "compute_r_σ = jax.jit(compute_r_σ, static_argnums=(2,))\n",
    "L_σ = jax.jit(L_σ, static_argnums=(3,))\n",
    "T = jax.jit(T, static_argnums=(2,))\n",
    "T_σ = jax.jit(T_σ, static_argnums=(3,))\n",
    "get_greedy = jax.jit(get_greedy, static_argnums=(2,))\n",
    "get_value = jax.jit(get_value, static_argnums=(2,))"
   ]
  },
  {
   "cell_type": "markdown",
   "id": "9bcd0814",
   "metadata": {},
   "source": [
    "# Custom solvers "
   ]
  },
  {
   "cell_type": "code",
   "execution_count": 67,
   "id": "5a18bc0f",
   "metadata": {
    "execution": {
     "iopub.execute_input": "2023-08-20T09:37:41.332023Z",
     "iopub.status.busy": "2023-08-20T09:37:41.331898Z",
     "iopub.status.idle": "2023-08-20T09:37:41.336089Z",
     "shell.execute_reply": "2023-08-20T09:37:41.335676Z"
    }
   },
   "outputs": [],
   "source": [
    "def solve_model_jax_linop(model, algorithm=\"OPI\", **kwargs):\n",
    "    \"\"\"\n",
    "    General purpose solver. \n",
    "\n",
    "    algorithm : OPI, VFI or HPI\n",
    "\n",
    "    \"\"\"\n",
    "\n",
    "    # Set up\n",
    "    params, sizes, arrays = model\n",
    "    n_y, n_z = sizes\n",
    "    v_init = jnp.zeros((n_y, n_z))\n",
    "\n",
    "    # Solve\n",
    "    print(f\"Solving model via using {algorithm}.\")\n",
    "    \n",
    "    if sys.version_info >= (3, 10):\n",
    "        pass\n",
    "        # match algorithm:\n",
    "        #     case \"OPI\":\n",
    "        #         solver = optimistic_policy_iteration\n",
    "        #         args = (v_init, \n",
    "        #             lambda v, σ: T_σ(v, σ, params, sizes, arrays), \n",
    "        #             lambda v: get_greedy(v, params, sizes, arrays))\n",
    "        #     case \"HPI\":\n",
    "        #         solver = howard_policy_iteration\n",
    "        #         args = (v_init, \n",
    "        #             lambda σ: get_value(σ, params, sizes, arrays), \n",
    "        #             lambda v: get_greedy(v, params, sizes, arrays))\n",
    "        #     case \"VFI\":\n",
    "        #         solver = value_function_iteration\n",
    "        #         args = (v_init, \n",
    "        #             lambda v: T(v, params, sizes, arrays), \n",
    "        #             lambda v: get_greedy(v, params, sizes, arrays))\n",
    "        #     case _:\n",
    "        #         raise ValueError(\"Algorithm must be in {OPI, VFI, HPI}\")\n",
    "    else:\n",
    "        if algorithm == \"OPI\":\n",
    "            solver = optimistic_policy_iteration\n",
    "            args = (v_init, \n",
    "                lambda v, σ: T_σ(v, σ, params, sizes, arrays), \n",
    "                lambda v: get_greedy(v, params, sizes, arrays))\n",
    "        elif algorithm == \"HPI\":\n",
    "            solver = howard_policy_iteration\n",
    "            args = (v_init, \n",
    "                lambda σ: get_value(σ, params, sizes, arrays), \n",
    "                lambda v: get_greedy(v, params, sizes, arrays))\n",
    "        elif algorithm == \"VFI\":\n",
    "            solver = value_function_iteration\n",
    "            args = (v_init, \n",
    "                lambda v: T(v, params, sizes, arrays), \n",
    "                lambda v: get_greedy(v, params, sizes, arrays))\n",
    "        else:\n",
    "            raise ValueError(\"Algorithm must be in {OPI, VFI, HPI}\")\n",
    "\n",
    "    qe.tic()\n",
    "    kwargs['usejax'] = True\n",
    "    v_star, σ_star = solver(*args, **kwargs)\n",
    "    run_time = qe.toc()\n",
    "    print(f\"Solved model using {algorithm} in {run_time:.5f} seconds.\")\n",
    "\n",
    "    return v_star, σ_star"
   ]
  },
  {
   "cell_type": "code",
   "execution_count": 68,
   "id": "4cf81467",
   "metadata": {
    "execution": {
     "iopub.execute_input": "2023-08-20T09:37:41.337606Z",
     "iopub.status.busy": "2023-08-20T09:37:41.337416Z",
     "iopub.status.idle": "2023-08-20T09:37:41.341052Z",
     "shell.execute_reply": "2023-08-20T09:37:41.340634Z"
    }
   },
   "outputs": [],
   "source": [
    "def test_timing_jax(model,\n",
    "                    m_vals=range(1, 100, 20),\n",
    "                    figname=\"jax_timing.pdf\",\n",
    "                    savefig=False):\n",
    "    \"\"\"\n",
    "    Plot relative timing of different algorithms.\n",
    "\n",
    "    \"\"\"\n",
    "\n",
    "    qe.tic()\n",
    "    _, σ_pi = solve_model_jax_linop(model, algorithm=\"HPI\")\n",
    "    hpi_time = qe.toc()\n",
    "\n",
    "    qe.tic()\n",
    "    _, σ_vfi = solve_model_jax_linop(model, algorithm=\"VFI\")\n",
    "    vfi_time = qe.toc()\n",
    "\n",
    "    error = jnp.max(jnp.abs(σ_vfi - σ_pi))\n",
    "    if error:\n",
    "        print(\"Warning: VFI policy deviated with max error {error}.\")\n",
    "\n",
    "    opi_times = []\n",
    "    for m in m_vals:\n",
    "        qe.tic()\n",
    "        _, σ_opi = solve_model_jax_linop(model, algorithm=\"OPI\", m=m)\n",
    "        opi_times.append(qe.toc())\n",
    "\n",
    "        error = jnp.max(jnp.abs(σ_opi - σ_pi))\n",
    "        if error:\n",
    "            print(\"Warning: OPI policy deviated with max error {error}.\")\n",
    "\n",
    "    plot_timing(hpi_time, \n",
    "                vfi_time,\n",
    "                opi_times,\n",
    "                m_vals, \n",
    "                figname=figname,\n",
    "                savefig=False)\n",
    "\n",
    "    return hpi_time, vfi_time, opi_times"
   ]
  },
  {
   "cell_type": "markdown",
   "id": "b659b45f",
   "metadata": {},
   "source": [
    "# Simulations and plots "
   ]
  },
  {
   "cell_type": "code",
   "execution_count": 69,
   "id": "018ee240",
   "metadata": {
    "execution": {
     "iopub.execute_input": "2023-08-20T09:37:41.342426Z",
     "iopub.status.busy": "2023-08-20T09:37:41.342301Z",
     "iopub.status.idle": "2023-08-20T09:37:43.519573Z",
     "shell.execute_reply": "2023-08-20T09:37:43.518994Z"
    }
   },
   "outputs": [
    {
     "name": "stdout",
     "output_type": "stream",
     "text": [
      "Building model with ρ(L) = 0.9771436957699303\n"
     ]
    }
   ],
   "source": [
    "model = create_sdd_inventory_model_jax()"
   ]
  },
  {
   "cell_type": "code",
   "execution_count": 70,
   "id": "cef0de71",
   "metadata": {
    "execution": {
     "iopub.execute_input": "2023-08-20T09:37:43.521248Z",
     "iopub.status.busy": "2023-08-20T09:37:43.521111Z",
     "iopub.status.idle": "2023-08-20T09:37:45.530973Z",
     "shell.execute_reply": "2023-08-20T09:37:45.530455Z"
    }
   },
   "outputs": [
    {
     "name": "stdout",
     "output_type": "stream",
     "text": [
      "Solving model via using VFI.\n",
      "Completed iteration 25 with error 0.5739779924809856.\n",
      "Completed iteration 50 with error 0.4016430079271913.\n",
      "Completed iteration 75 with error 0.25370625675735425.\n",
      "Completed iteration 100 with error 0.15160902156797107.\n",
      "Completed iteration 125 with error 0.08410577632667326.\n",
      "Completed iteration 150 with error 0.04033201378753404.\n",
      "Completed iteration 175 with error 0.020189956953423405.\n",
      "Completed iteration 200 with error 0.011168317779322479.\n",
      "Completed iteration 225 with error 0.006278262218586406.\n",
      "Completed iteration 250 with error 0.00352780405119546.\n",
      "Completed iteration 275 with error 0.0019808976817543567.\n",
      "Completed iteration 300 with error 0.0011118451957941033.\n",
      "Completed iteration 325 with error 0.0006239198084330155.\n",
      "Completed iteration 350 with error 0.0003500730069347924.\n",
      "Completed iteration 375 with error 0.00019640746908322626.\n",
      "Completed iteration 400 with error 0.00011018953769337259.\n",
      "Completed iteration 425 with error 6.181775445668336e-05.\n",
      "Completed iteration 450 with error 3.468013563434624e-05.\n",
      "Completed iteration 475 with error 1.9455634081566586e-05.\n",
      "Completed iteration 500 with error 1.091461294322471e-05.\n",
      "Completed iteration 525 with error 6.123086102149955e-06.\n",
      "Completed iteration 550 with error 3.435040639487852e-06.\n",
      "Completed iteration 575 with error 1.927050540473374e-06.\n",
      "Completed iteration 600 with error 1.0810708843678185e-06.\n",
      "VFI terminated successfully in 605 iterations.\n",
      "TOC: Elapsed: 0:02:17.31\n",
      "Solved model using VFI in 137.31013 seconds.\n"
     ]
    }
   ],
   "source": [
    "### Solve by VFI \n",
    "v_star, σ_star = solve_model_jax_linop(model, \n",
    "                                       algorithm=\"VFI\", \n",
    "                                       verbose=\"True\")"
   ]
  },
  {
   "cell_type": "code",
   "execution_count": 71,
   "id": "009778d5",
   "metadata": {
    "execution": {
     "iopub.execute_input": "2023-08-20T09:37:45.532583Z",
     "iopub.status.busy": "2023-08-20T09:37:45.532453Z",
     "iopub.status.idle": "2023-08-20T09:37:46.161205Z",
     "shell.execute_reply": "2023-08-20T09:37:46.160738Z"
    }
   },
   "outputs": [
    {
     "name": "stdout",
     "output_type": "stream",
     "text": [
      "Solving model via using HPI.\n",
      "Concluded loop 1 with error 71.\n",
      "Concluded loop 2 with error 64.\n",
      "Concluded loop 3 with error 34.\n",
      "Concluded loop 4 with error 33.\n",
      "Concluded loop 5 with error 24.\n",
      "Concluded loop 6 with error 25.\n",
      "Concluded loop 7 with error 25.\n",
      "Concluded loop 8 with error 0.\n",
      "HPI converged in 8 iteration(s).\n",
      "TOC: Elapsed: 0:00:3.02\n",
      "Solved model using HPI in 3.02888 seconds.\n"
     ]
    }
   ],
   "source": [
    "### Solve by HPI\n",
    "v_star, σ_star = solve_model_jax_linop(model, \n",
    "                                       algorithm=\"HPI\", \n",
    "                                       verbose=\"True\")"
   ]
  },
  {
   "cell_type": "code",
   "execution_count": 72,
   "id": "1abd3a0b",
   "metadata": {
    "execution": {
     "iopub.execute_input": "2023-08-20T09:37:46.162777Z",
     "iopub.status.busy": "2023-08-20T09:37:46.162584Z",
     "iopub.status.idle": "2023-08-20T09:37:46.413048Z",
     "shell.execute_reply": "2023-08-20T09:37:46.412689Z"
    }
   },
   "outputs": [
    {
     "name": "stdout",
     "output_type": "stream",
     "text": [
      "Solving model via using OPI.\n",
      "Completed iteration 10 with error 0.3664662873701161.\n",
      "Completed iteration 20 with error 0.0036724615057650567.\n",
      "Completed iteration 30 with error 3.603562219467449e-05.\n",
      "OPI terminated successfully in 39 iterations (m = 20).\n",
      "TOC: Elapsed: 0:00:9.63\n",
      "Solved model using OPI in 9.63222 seconds.\n"
     ]
    }
   ],
   "source": [
    "### Solve by OPI\n",
    "v_star, σ_star = solve_model_jax_linop(model, \n",
    "                                       algorithm=\"OPI\", \n",
    "                                       verbose=\"True\")"
   ]
  },
  {
   "cell_type": "code",
   "execution_count": 73,
   "id": "c4d1eb76",
   "metadata": {
    "execution": {
     "iopub.execute_input": "2023-08-20T09:37:46.414663Z",
     "iopub.status.busy": "2023-08-20T09:37:46.414465Z",
     "iopub.status.idle": "2023-08-20T09:37:48.026850Z",
     "shell.execute_reply": "2023-08-20T09:37:48.026251Z"
    }
   },
   "outputs": [
    {
     "data": {
      "image/png": "[encoded data removed]",
      "text/plain": [
       "<Figure size 900x550 with 2 Axes>"
      ]
     },
     "metadata": {},
     "output_type": "display_data"
    }
   ],
   "source": [
    "plot_ts(model, σ_star)"
   ]
  },
  {
   "cell_type": "markdown",
   "id": "ff86ceb3",
   "metadata": {},
   "source": [
    "## Test timing"
   ]
  },
  {
   "cell_type": "code",
   "execution_count": 74,
   "id": "4d9f8579",
   "metadata": {
    "execution": {
     "iopub.execute_input": "2023-08-20T09:37:48.028749Z",
     "iopub.status.busy": "2023-08-20T09:37:48.028568Z",
     "iopub.status.idle": "2023-08-20T09:37:51.799278Z",
     "shell.execute_reply": "2023-08-20T09:37:51.798772Z"
    }
   },
   "outputs": [
    {
     "name": "stdout",
     "output_type": "stream",
     "text": [
      "Solving model via using HPI.\n",
      "HPI converged in 8 iteration(s).\n",
      "TOC: Elapsed: 0:00:2.73\n",
      "Solved model using HPI in 2.73933 seconds.\n",
      "TOC: Elapsed: 0:00:2.73\n",
      "Solving model via using VFI.\n",
      "TOC: Elapsed: 0:02:18.45\n",
      "Solved model using VFI in 138.45179 seconds.\n",
      "TOC: Elapsed: 0:02:18.45\n",
      "Solving model via using OPI.\n",
      "OPI terminated successfully in 605 iterations (m = 1).\n",
      "TOC: Elapsed: 0:02:16.40\n",
      "Solved model using OPI in 136.40287 seconds.\n",
      "TOC: Elapsed: 0:02:16.40\n",
      "Solving model via using OPI.\n",
      "OPI terminated successfully in 38 iterations (m = 21).\n",
      "TOC: Elapsed: 0:00:9.31\n",
      "Solved model using OPI in 9.31077 seconds.\n",
      "TOC: Elapsed: 0:00:9.31\n",
      "Solving model via using OPI.\n",
      "OPI terminated successfully in 22 iterations (m = 41).\n",
      "TOC: Elapsed: 0:00:5.82\n",
      "Solved model using OPI in 5.82138 seconds.\n",
      "TOC: Elapsed: 0:00:5.82\n",
      "Solving model via using OPI.\n",
      "OPI terminated successfully in 19 iterations (m = 61).\n",
      "TOC: Elapsed: 0:00:5.40\n",
      "Solved model using OPI in 5.40821 seconds.\n",
      "TOC: Elapsed: 0:00:5.40\n",
      "Solving model via using OPI.\n",
      "OPI terminated successfully in 15 iterations (m = 81).\n",
      "TOC: Elapsed: 0:00:4.54\n",
      "Solved model using OPI in 4.54464 seconds.\n",
      "TOC: Elapsed: 0:00:4.54\n"
     ]
    },
    {
     "data": {
      "image/png": "[encoded data removed]",
      "text/plain": [
       "<Figure size 900x520 with 1 Axes>"
      ]
     },
     "metadata": {},
     "output_type": "display_data"
    }
   ],
   "source": [
    "hpi_time, vfi_time, opi_times = test_timing_jax(model)"
   ]
  },
  {
   "cell_type": "code",
   "execution_count": 75,
   "id": "6b530853",
   "metadata": {
    "execution": {
     "iopub.execute_input": "2023-08-20T09:37:51.800890Z",
     "iopub.status.busy": "2023-08-20T09:37:51.800750Z",
     "iopub.status.idle": "2023-08-20T09:37:51.803452Z",
     "shell.execute_reply": "2023-08-20T09:37:51.802985Z"
    }
   },
   "outputs": [
    {
     "name": "stdout",
     "output_type": "stream",
     "text": [
      "\n",
      "Run times relative to HPI:\n",
      "\n",
      "HPI = 2.7393648624420166\n",
      "VFI / HPI = 50.54161999817402\n",
      "best OPI / HPI = 1.6590601048989058\n"
     ]
    }
   ],
   "source": [
    "print(\"\\nRun times relative to HPI:\\n\")\n",
    "print(f\"HPI = {hpi_time}\")\n",
    "print(f\"VFI / HPI = {vfi_time / hpi_time}\")\n",
    "print(f\"best OPI / HPI = {min(opi_times) / hpi_time}\")"
   ]
  }
 ],
 "metadata": {
  "jupytext": {
   "cell_metadata_filter": "-all",
   "main_language": "python",
   "notebook_metadata_filter": "-all"
  },
  "kernelspec": {
   "display_name": "Python 3 (ipykernel)",
   "language": "python",
   "name": "python3"
  },
  "language_info": {
   "codemirror_mode": {
    "name": "ipython",
    "version": 3
   },
   "file_extension": ".py",
   "mimetype": "text/x-python",
   "name": "python",
   "nbconvert_exporter": "python",
   "pygments_lexer": "ipython3",
   "version": "3.9.13"
  }
 },
 "nbformat": 4,
 "nbformat_minor": 5
}
