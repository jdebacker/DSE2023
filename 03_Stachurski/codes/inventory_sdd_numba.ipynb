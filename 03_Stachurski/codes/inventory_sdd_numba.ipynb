{
 "cells": [
  {
   "cell_type": "markdown",
   "id": "4b9e4ad4",
   "metadata": {},
   "source": [
    "# Inventory management via Python/Numba"
   ]
  },
  {
   "cell_type": "code",
   "execution_count": 1,
   "id": "a00fe615",
   "metadata": {
    "execution": {
     "iopub.execute_input": "2023-08-20T09:51:38.741909Z",
     "iopub.status.busy": "2023-08-20T09:51:38.741385Z",
     "iopub.status.idle": "2023-08-20T09:51:39.561189Z",
     "shell.execute_reply": "2023-08-20T09:51:39.560738Z"
    },
    "lines_to_next_cell": 1
   },
   "outputs": [
    {
     "ename": "ModuleNotFoundError",
     "evalue": "No module named 'jax'",
     "output_type": "error",
     "traceback": [
      "\u001b[0;31m---------------------------------------------------------------------------\u001b[0m",
      "\u001b[0;31mModuleNotFoundError\u001b[0m                       Traceback (most recent call last)",
      "\u001b[0;32m/var/folders/bw/1cvntf9x02b49nfwgy_qnfn00000gp/T/ipykernel_95924/393723705.py\u001b[0m in \u001b[0;36m<module>\u001b[0;34m\u001b[0m\n\u001b[1;32m      3\u001b[0m \u001b[0;32mfrom\u001b[0m \u001b[0mcollections\u001b[0m \u001b[0;32mimport\u001b[0m \u001b[0mnamedtuple\u001b[0m\u001b[0;34m\u001b[0m\u001b[0;34m\u001b[0m\u001b[0m\n\u001b[1;32m      4\u001b[0m \u001b[0;32mfrom\u001b[0m \u001b[0mnumba\u001b[0m \u001b[0;32mimport\u001b[0m \u001b[0mnjit\u001b[0m\u001b[0;34m,\u001b[0m \u001b[0mprange\u001b[0m\u001b[0;34m,\u001b[0m \u001b[0mint32\u001b[0m\u001b[0;34m\u001b[0m\u001b[0;34m\u001b[0m\u001b[0m\n\u001b[0;32m----> 5\u001b[0;31m \u001b[0;32mimport\u001b[0m \u001b[0mjax\u001b[0m\u001b[0;34m\u001b[0m\u001b[0;34m\u001b[0m\u001b[0m\n\u001b[0m\u001b[1;32m      6\u001b[0m \u001b[0;32mimport\u001b[0m \u001b[0mjax\u001b[0m\u001b[0;34m.\u001b[0m\u001b[0mnumpy\u001b[0m \u001b[0;32mas\u001b[0m \u001b[0mjnp\u001b[0m\u001b[0;34m\u001b[0m\u001b[0;34m\u001b[0m\u001b[0m\n\u001b[1;32m      7\u001b[0m \u001b[0;32mimport\u001b[0m \u001b[0mmatplotlib\u001b[0m\u001b[0;34m.\u001b[0m\u001b[0mpyplot\u001b[0m \u001b[0;32mas\u001b[0m \u001b[0mplt\u001b[0m\u001b[0;34m\u001b[0m\u001b[0;34m\u001b[0m\u001b[0m\n",
      "\u001b[0;31mModuleNotFoundError\u001b[0m: No module named 'jax'"
     ]
    }
   ],
   "source": [
    "import quantecon as qe\n",
    "import numpy as np\n",
    "from collections import namedtuple\n",
    "from numba import njit, prange, int32\n",
    "import jax\n",
    "import jax.numpy as jnp\n",
    "import matplotlib.pyplot as plt"
   ]
  },
  {
   "cell_type": "markdown",
   "id": "bf3f58f0",
   "metadata": {},
   "source": [
    "## Model and Primitives"
   ]
  },
  {
   "cell_type": "code",
   "execution_count": 2,
   "id": "9aa665ea",
   "metadata": {
    "execution": {
     "iopub.execute_input": "2023-08-20T09:51:39.563216Z",
     "iopub.status.busy": "2023-08-20T09:51:39.562988Z",
     "iopub.status.idle": "2023-08-20T09:51:39.565375Z",
     "shell.execute_reply": "2023-08-20T09:51:39.565098Z"
    },
    "lines_to_next_cell": 1
   },
   "outputs": [],
   "source": [
    "def f(y, a, d):\n",
    "    \" Inventory update rule. \"\n",
    "    return np.maximum(y - d, 0) + a "
   ]
  },
  {
   "cell_type": "code",
   "execution_count": 3,
   "id": "3e0ee931",
   "metadata": {
    "execution": {
     "iopub.execute_input": "2023-08-20T09:51:39.567114Z",
     "iopub.status.busy": "2023-08-20T09:51:39.566949Z",
     "iopub.status.idle": "2023-08-20T09:51:39.569180Z",
     "shell.execute_reply": "2023-08-20T09:51:39.568903Z"
    },
    "lines_to_next_cell": 1
   },
   "outputs": [],
   "source": [
    "Params = namedtuple(   # Stores model parameters\n",
    "         \"Params\", (\"K\", \"c\", \"κ\", \"p\"))"
   ]
  },
  {
   "cell_type": "code",
   "execution_count": 4,
   "id": "257ca015",
   "metadata": {
    "execution": {
     "iopub.execute_input": "2023-08-20T09:51:39.570746Z",
     "iopub.status.busy": "2023-08-20T09:51:39.570542Z",
     "iopub.status.idle": "2023-08-20T09:51:39.574158Z",
     "shell.execute_reply": "2023-08-20T09:51:39.573755Z"
    }
   },
   "outputs": [],
   "source": [
    "def build_R(params, y_vals, d_vals, ϕ_vals):\n",
    "    K, c, κ, p = params\n",
    "    n_y = K + 1\n",
    "    n_d = len(d_vals)\n",
    "    # Create R[y, a, yp, d] and then sum out last dimension\n",
    "    y  = np.reshape(y_vals, (n_y, 1, 1, 1))\n",
    "    a  = np.reshape(y_vals, (1, n_y, 1, 1))\n",
    "    yp = np.reshape(y_vals, (1, 1, n_y, 1))\n",
    "    d  = np.reshape(d_vals, (1, 1, 1, n_d))\n",
    "    ϕ  = np.reshape(ϕ_vals, (1, 1, 1, n_d))\n",
    "    feasible = a <= K - y\n",
    "    temp = (f(y, a, d_vals) == yp) * feasible\n",
    "    R = np.sum(temp * ϕ_vals, axis=3)\n",
    "    return R"
   ]
  },
  {
   "cell_type": "code",
   "execution_count": 5,
   "id": "0f13d480",
   "metadata": {
    "execution": {
     "iopub.execute_input": "2023-08-20T09:51:39.575772Z",
     "iopub.status.busy": "2023-08-20T09:51:39.575588Z",
     "iopub.status.idle": "2023-08-20T09:51:39.579030Z",
     "shell.execute_reply": "2023-08-20T09:51:39.578743Z"
    }
   },
   "outputs": [],
   "source": [
    "def build_r(params, y_vals, d_vals, ϕ_vals):\n",
    "    K, c, κ, p = params\n",
    "    n_y = K + 1\n",
    "    n_d = len(d_vals)\n",
    "    y = np.reshape(y_vals, (n_y, 1))\n",
    "    d = np.reshape(d_vals, (1, n_d))\n",
    "    ϕ = np.reshape(ϕ_vals, (1, n_d))\n",
    "    revenue = np.minimum(y, d) * ϕ \n",
    "    exp_revenue = np.sum(revenue, axis=1)\n",
    "    exp_revenue = np.reshape(exp_revenue, (n_y, 1))\n",
    "    a = np.reshape(y_vals, (1, n_y))\n",
    "    cost = c * a + κ * (a > 0)\n",
    "    exp_profit = exp_revenue - cost\n",
    "    feasible = a <= K - y\n",
    "    r = np.where(feasible, exp_profit, -np.inf)\n",
    "    return r"
   ]
  },
  {
   "cell_type": "code",
   "execution_count": 6,
   "id": "210005db",
   "metadata": {
    "execution": {
     "iopub.execute_input": "2023-08-20T09:51:39.580570Z",
     "iopub.status.busy": "2023-08-20T09:51:39.580420Z",
     "iopub.status.idle": "2023-08-20T09:51:39.582489Z",
     "shell.execute_reply": "2023-08-20T09:51:39.582209Z"
    }
   },
   "outputs": [],
   "source": [
    "Arrays = namedtuple(  # Stores arrays for model\n",
    "         \"Arrays\", (\"r\", \"R\", \"y_vals\", \"z_vals\", \"Q\"))"
   ]
  },
  {
   "cell_type": "code",
   "execution_count": 7,
   "id": "c03cd2f5",
   "metadata": {
    "execution": {
     "iopub.execute_input": "2023-08-20T09:51:39.584126Z",
     "iopub.status.busy": "2023-08-20T09:51:39.583936Z",
     "iopub.status.idle": "2023-08-20T09:51:39.586171Z",
     "shell.execute_reply": "2023-08-20T09:51:39.585897Z"
    },
    "lines_to_next_cell": 1
   },
   "outputs": [],
   "source": [
    "Model = namedtuple(   # Stores all model data\n",
    "        \"Model\", (\"params\", \"sizes\", \"arrays\"))"
   ]
  },
  {
   "cell_type": "code",
   "execution_count": 8,
   "id": "bf39cf8a",
   "metadata": {
    "execution": {
     "iopub.execute_input": "2023-08-20T09:51:39.587790Z",
     "iopub.status.busy": "2023-08-20T09:51:39.587640Z",
     "iopub.status.idle": "2023-08-20T09:51:39.592244Z",
     "shell.execute_reply": "2023-08-20T09:51:39.591843Z"
    }
   },
   "outputs": [],
   "source": [
    "def create_sdd_inventory_model(ρ=0.98,        # Z persistence\n",
    "                               ν=0.002,       # Z volatility\n",
    "                               n_z=12,        # size of Z grid\n",
    "                               b=0.97,        # Z mean\n",
    "                               K=100,         # max inventory        \n",
    "                               d_max=100,     # max value of d\n",
    "                               c=0.2,         # unit cost\n",
    "                               κ=0.8,         # fixed cost\n",
    "                               p=0.6):        # demand parameter\n",
    "\n",
    "    \"\"\"\n",
    "    Stores inventory management model primitives and default values.\n",
    "\n",
    "    The discount factor takes the form β_t = Z_t, where (Z_t) is a \n",
    "    Tauchen discretization of the Gaussian AR(1) process \n",
    "\n",
    "        Z_t = ρ Z_{t-1} + b + ν W_t.\n",
    "\n",
    "    \"\"\"\n",
    "\n",
    "\n",
    "    n_y = K + 1               # size of state space\n",
    "    y_vals = np.arange(n_y)   # inventory levels 0,...,K\n",
    "\n",
    "    # Construct r and R arrays\n",
    "    def ϕ(d):\n",
    "        return (1 - p)**d * p                      \n",
    "    d_vals = np.arange(d_max)\n",
    "    ϕ_vals = ϕ(d_vals)\n",
    "\n",
    "    # Build the exogenous discount process \n",
    "    mc = qe.tauchen(n_z, ρ, ν)\n",
    "    z_vals, Q = mc.state_values + b, mc.P\n",
    "\n",
    "    # Test spectral radius condition\n",
    "    ρL = np.max(np.abs(np.linalg.eigvals(z_vals * Q)))     \n",
    "    if ρL >= 1:\n",
    "        raise NotImplementedError(\"Error: ρ(L) ≥ 1.\")\n",
    "    else:\n",
    "        print(f\"Building model with ρ(L) = {ρL}\")\n",
    "\n",
    "    # Build namedtuples and return them\n",
    "    params = Params(K=K, c=c, κ=κ, p=p)\n",
    "    r = build_r(params, y_vals, d_vals, ϕ_vals)\n",
    "    R = build_R(params, y_vals, d_vals, ϕ_vals)\n",
    "\n",
    "    arrays = Arrays(r=r, R=R, y_vals=y_vals, z_vals=z_vals, Q=Q)\n",
    "    sizes = n_y, n_z\n",
    "    return Model(params=params, sizes=sizes, arrays=arrays)"
   ]
  },
  {
   "cell_type": "markdown",
   "id": "af7d70d9",
   "metadata": {},
   "source": [
    "## DP algorithms"
   ]
  },
  {
   "cell_type": "code",
   "execution_count": 9,
   "id": "e031a78b",
   "metadata": {
    "execution": {
     "iopub.execute_input": "2023-08-20T09:51:39.593696Z",
     "iopub.status.busy": "2023-08-20T09:51:39.593576Z",
     "iopub.status.idle": "2023-08-20T09:51:39.597016Z",
     "shell.execute_reply": "2023-08-20T09:51:39.596608Z"
    }
   },
   "outputs": [],
   "source": [
    "def value_function_iteration(v_init, \n",
    "                             T,\n",
    "                             get_greedy,\n",
    "                             tolerance=1e-6,        # Error tolerance\n",
    "                             max_iter=10_000,       # Max iteration bound\n",
    "                             print_step=25,         # Print at multiples\n",
    "                             verbose=False,\n",
    "                             usejax=False):\n",
    "    \"\"\"\n",
    "        Compute v_star via VFI and then compute greedy.\n",
    "    \"\"\"\n",
    "    array_lib = jnp if usejax else np\n",
    "\n",
    "    v = v_init\n",
    "    error = tolerance + 1\n",
    "    k = 1\n",
    "    while error > tolerance and k <= max_iter:\n",
    "        v_new = T(v)\n",
    "        error = array_lib.max(array_lib.abs(v_new - v))\n",
    "        if verbose and (k % print_step) == 0:\n",
    "            print(f\"Completed iteration {k} with error {error}.\")\n",
    "        v = v_new\n",
    "        k += 1\n",
    "    if error > tolerance:\n",
    "        print(f\"Warning: Iteration hit upper bound {max_iter}.\")\n",
    "    elif verbose:\n",
    "        print(f\"VFI terminated successfully in {k} iterations.\")\n",
    "    v_star = v\n",
    "    σ_star = get_greedy(v_star)\n",
    "    return v_star, σ_star"
   ]
  },
  {
   "cell_type": "code",
   "execution_count": 10,
   "id": "c38d37e1",
   "metadata": {
    "execution": {
     "iopub.execute_input": "2023-08-20T09:51:39.598443Z",
     "iopub.status.busy": "2023-08-20T09:51:39.598323Z",
     "iopub.status.idle": "2023-08-20T09:51:39.601727Z",
     "shell.execute_reply": "2023-08-20T09:51:39.601323Z"
    }
   },
   "outputs": [],
   "source": [
    "def optimistic_policy_iteration(v_init, \n",
    "                                T_σ,\n",
    "                                get_greedy,\n",
    "                                m=20,\n",
    "                                tolerance=1e-6, \n",
    "                                max_iter=1_000,\n",
    "                                print_step=10,\n",
    "                                verbose=False,\n",
    "                                usejax=False):\n",
    "    \"Optimistic policy iteration routine.\"\n",
    "    \n",
    "    array_lib = jnp if usejax else np\n",
    "    v = v_init\n",
    "    error = tolerance + 1\n",
    "    k = 1\n",
    "    while error > tolerance and k < max_iter:\n",
    "        last_v = v\n",
    "        σ = get_greedy(v)\n",
    "        for i in range(m):\n",
    "            v = T_σ(v, σ)\n",
    "        error = array_lib.max(array_lib.abs(v - last_v))\n",
    "        if verbose and k % print_step == 0:\n",
    "            print(f\"Completed iteration {k} with error {error}.\")\n",
    "        k += 1\n",
    "    if error > tolerance:\n",
    "        print(f\"Warning: Iteration hit upper bound {max_iter}.\")\n",
    "    else: \n",
    "        print(f\"OPI terminated successfully in {k} iterations (m = {m}).\")\n",
    "    return v, get_greedy(v)"
   ]
  },
  {
   "cell_type": "code",
   "execution_count": 11,
   "id": "70c8d693",
   "metadata": {
    "execution": {
     "iopub.execute_input": "2023-08-20T09:51:39.603395Z",
     "iopub.status.busy": "2023-08-20T09:51:39.603132Z",
     "iopub.status.idle": "2023-08-20T09:51:39.606166Z",
     "shell.execute_reply": "2023-08-20T09:51:39.605876Z"
    }
   },
   "outputs": [],
   "source": [
    "def howard_policy_iteration(v_init, \n",
    "                            get_value,\n",
    "                            get_greedy,\n",
    "                            verbose=False,\n",
    "                            usejax=False):\n",
    "    \"Howard policy iteration routine.\"\n",
    "    array_lib = jnp if usejax else np\n",
    "\n",
    "    σ = get_greedy(v_init)\n",
    "    i, error = 0, 1.0\n",
    "    while error > 0:\n",
    "        v_σ = get_value(σ)\n",
    "        σ_new = get_greedy(v_σ)\n",
    "        error = array_lib.max(array_lib.abs(σ_new - σ))\n",
    "        σ = σ_new\n",
    "        i = i + 1\n",
    "        if verbose:\n",
    "            print(f\"Concluded loop {i} with error {error}.\")\n",
    "    print(f\"HPI converged in {i} iteration(s).\")\n",
    "    return v_σ, σ"
   ]
  },
  {
   "cell_type": "markdown",
   "id": "9614c3d8",
   "metadata": {},
   "source": [
    "## Code for simulations and plots"
   ]
  },
  {
   "cell_type": "code",
   "execution_count": 12,
   "id": "177174d4",
   "metadata": {
    "execution": {
     "iopub.execute_input": "2023-08-20T09:51:39.607809Z",
     "iopub.status.busy": "2023-08-20T09:51:39.607544Z",
     "iopub.status.idle": "2023-08-20T09:51:39.610936Z",
     "shell.execute_reply": "2023-08-20T09:51:39.610495Z"
    }
   },
   "outputs": [],
   "source": [
    "def sim_inventories(model, σ_star, ts_length, Y_init=0, seed=500):\n",
    "    \"\"\"\n",
    "        Simulate inventory dynamics and interest rates given an \n",
    "        optimal policy σ_star.\n",
    "    \"\"\"\n",
    "    # Set up\n",
    "    np.random.seed(seed)\n",
    "    K, c, κ, p = model.params\n",
    "    r, R, y_vals, z_vals, Q = model.arrays\n",
    "\n",
    "    # Generate Markov chain for discount factor\n",
    "    z_mc = qe.MarkovChain(Q, z_vals)\n",
    "    i_z = z_mc.simulate_indices(ts_length, init=1, random_state=seed)\n",
    "\n",
    "    # Generate corresponding inventory series\n",
    "    Y = np.zeros(ts_length, dtype=int)\n",
    "    Y[0] = Y_init\n",
    "    for t in range(ts_length - 1):\n",
    "        D = np.random.geometric(p) - 1\n",
    "        a = σ_star[Y[t], i_z[t]] \n",
    "        Y[t+1] = f(Y[t],  a,  D)\n",
    "\n",
    "    # Return both series\n",
    "    return Y, z_vals[i_z]"
   ]
  },
  {
   "cell_type": "code",
   "execution_count": 13,
   "id": "403fa7ee",
   "metadata": {
    "execution": {
     "iopub.execute_input": "2023-08-20T09:51:39.612389Z",
     "iopub.status.busy": "2023-08-20T09:51:39.612270Z",
     "iopub.status.idle": "2023-08-20T09:51:39.615854Z",
     "shell.execute_reply": "2023-08-20T09:51:39.615450Z"
    }
   },
   "outputs": [],
   "source": [
    "def plot_ts(model,\n",
    "            σ_star,\n",
    "            ts_length=400,\n",
    "            fontsize=12, \n",
    "            figname=\"ts.pdf\",\n",
    "            savefig=False):\n",
    "    \"\"\"\n",
    "        Solve model, plot a time series of inventory and interest rates.\n",
    "\n",
    "    \"\"\"\n",
    "\n",
    "    # Obtain inventory and discount factor series\n",
    "    Y, Z = sim_inventories(model, σ_star, ts_length)\n",
    "    r = (1 / Z) - 1 # calculate interest rate from discount factors\n",
    "\n",
    "    # Plot\n",
    "    fig, axes = plt.subplots(2, 1, figsize=(9, 5.5))\n",
    "    ax = axes[0]\n",
    "    ax.plot(Y, label=\"inventory\", alpha=0.7)\n",
    "    ax.set_xlabel(\"time\", fontsize=fontsize)\n",
    "    ax.legend(fontsize=fontsize, frameon=False)\n",
    "    ax.set_ylim(0, np.max(Y)+3)\n",
    "    ax = axes[1]\n",
    "    ax.plot(r, label=\"$r_t$\", alpha=0.7)\n",
    "    ax.set_xlabel(\"$t$\", fontsize=fontsize)\n",
    "    ax.legend(fontsize=fontsize, frameon=False)\n",
    "    plt.tight_layout()\n",
    "    plt.show()\n",
    "    if savefig:\n",
    "        fig.savefig(figname)"
   ]
  },
  {
   "cell_type": "code",
   "execution_count": null,
   "id": "4e09de12",
   "metadata": {},
   "outputs": [],
   "source": []
  },
  {
   "cell_type": "code",
   "execution_count": 14,
   "id": "61ee0300",
   "metadata": {
    "execution": {
     "iopub.execute_input": "2023-08-20T09:51:39.617431Z",
     "iopub.status.busy": "2023-08-20T09:51:39.617244Z",
     "iopub.status.idle": "2023-08-20T09:51:39.620437Z",
     "shell.execute_reply": "2023-08-20T09:51:39.620023Z"
    }
   },
   "outputs": [],
   "source": [
    "def plot_timing(hpi_time, \n",
    "                vfi_time,\n",
    "                opi_times,\n",
    "                m_vals, \n",
    "                figname=\"timing.pdf\",\n",
    "                fontsize=12,\n",
    "                savefig=False):\n",
    "    \"\"\"\n",
    "    Plot relative timing of different algorithms.\n",
    "\n",
    "    \"\"\"\n",
    "    fig, ax = plt.subplots(figsize=(9, 5.2))\n",
    "\n",
    "    y_values = (np.full(len(m_vals), vfi_time), \n",
    "                np.full(len(m_vals), hpi_time),\n",
    "                opi_times)\n",
    "    labels = \"VFI\", \"HPI\", \"OPI\"\n",
    "\n",
    "    for y_vals, label in zip(y_values, labels):\n",
    "        ax.plot(m_vals, y_vals, lw=2, label=label)\n",
    "\n",
    "    ax.legend(fontsize=fontsize, frameon=False)\n",
    "    ax.set_xlabel(\"$m$\", fontsize=fontsize)\n",
    "    ax.set_ylabel(\"time\", fontsize=fontsize)\n",
    "    plt.show()\n",
    "\n",
    "    if savefig:\n",
    "        fig.savefig(figname)"
   ]
  },
  {
   "cell_type": "code",
   "execution_count": null,
   "id": "bb960ce7",
   "metadata": {
    "lines_to_next_cell": 2
   },
   "outputs": [],
   "source": []
  },
  {
   "cell_type": "code",
   "execution_count": 15,
   "id": "343501e8",
   "metadata": {
    "execution": {
     "iopub.execute_input": "2023-08-20T09:51:39.621818Z",
     "iopub.status.busy": "2023-08-20T09:51:39.621698Z",
     "iopub.status.idle": "2023-08-20T09:51:39.623910Z",
     "shell.execute_reply": "2023-08-20T09:51:39.623615Z"
    },
    "lines_to_next_cell": 1
   },
   "outputs": [],
   "source": [
    "f = njit(f) # use numba to JIT-compile f"
   ]
  },
  {
   "cell_type": "markdown",
   "id": "fd7c5473",
   "metadata": {},
   "source": [
    "# Operators and functions "
   ]
  },
  {
   "cell_type": "code",
   "execution_count": 16,
   "id": "3d52a1e7",
   "metadata": {
    "execution": {
     "iopub.execute_input": "2023-08-20T09:51:39.625366Z",
     "iopub.status.busy": "2023-08-20T09:51:39.625183Z",
     "iopub.status.idle": "2023-08-20T09:51:39.628077Z",
     "shell.execute_reply": "2023-08-20T09:51:39.627662Z"
    },
    "lines_to_next_cell": 1
   },
   "outputs": [],
   "source": [
    "@njit\n",
    "def B(y, i_z, a, v, model):\n",
    "    \"\"\"\n",
    "    B(y, a, v) = r(y, a) + β(z) Σ_{y′, z′} v(y′, z′) R(y, a, y′) Q(z, z′)\n",
    "\n",
    "    \"\"\"\n",
    "    K, c, κ, p = model.params\n",
    "    r, R, y_vals, z_vals, Q = model.arrays\n",
    "    β = z_vals[i_z]\n",
    "    cv = 0.0\n",
    "    for i_zp in range(len(z_vals)):\n",
    "        for yp in y_vals:\n",
    "            cv += v[yp, i_zp] * R[y, a, yp] * Q[i_z, i_zp]\n",
    "    return r[y, a] + β * cv"
   ]
  },
  {
   "cell_type": "code",
   "execution_count": 17,
   "id": "387fb39a",
   "metadata": {
    "execution": {
     "iopub.execute_input": "2023-08-20T09:51:39.629544Z",
     "iopub.status.busy": "2023-08-20T09:51:39.629422Z",
     "iopub.status.idle": "2023-08-20T09:51:39.632606Z",
     "shell.execute_reply": "2023-08-20T09:51:39.632192Z"
    }
   },
   "outputs": [],
   "source": [
    "@njit\n",
    "def T(v, model):\n",
    "    \"The Bellman operator.\"\n",
    "    K, c, κ, p = model.params\n",
    "    r, R, y_vals, z_vals, Q = model.arrays\n",
    "    n_y, n_z = model.sizes\n",
    "    new_v = np.empty_like(v)\n",
    "    for i_z in range(n_z):\n",
    "        for y in y_vals:\n",
    "            Γy = range(K - y + 1)\n",
    "            B_vals = [B(y, i_z, a, v, model) for a in Γy]\n",
    "            new_v[y, i_z] = max(B_vals)\n",
    "    return new_v"
   ]
  },
  {
   "cell_type": "code",
   "execution_count": 18,
   "id": "d976e457",
   "metadata": {
    "execution": {
     "iopub.execute_input": "2023-08-20T09:51:39.634108Z",
     "iopub.status.busy": "2023-08-20T09:51:39.633923Z",
     "iopub.status.idle": "2023-08-20T09:51:39.636706Z",
     "shell.execute_reply": "2023-08-20T09:51:39.636294Z"
    },
    "lines_to_next_cell": 1
   },
   "outputs": [],
   "source": [
    "@njit\n",
    "def T_σ(v, σ, model):\n",
    "    \"The policy operator.\"\n",
    "    K, c, κ, p = model.params\n",
    "    r, R, y_vals, z_vals, Q = model.arrays\n",
    "    n_y, n_z = model.sizes\n",
    "    new_v = np.empty_like(v)\n",
    "    for i_z in range(n_z):\n",
    "        for y in y_vals:\n",
    "            new_v[y, i_z] = B(y, i_z, σ[y, i_z], v, model) \n",
    "    return new_v"
   ]
  },
  {
   "cell_type": "code",
   "execution_count": 19,
   "id": "28eb43ba",
   "metadata": {
    "execution": {
     "iopub.execute_input": "2023-08-20T09:51:39.638105Z",
     "iopub.status.busy": "2023-08-20T09:51:39.637985Z",
     "iopub.status.idle": "2023-08-20T09:51:39.641229Z",
     "shell.execute_reply": "2023-08-20T09:51:39.640817Z"
    },
    "lines_to_next_cell": 1
   },
   "outputs": [],
   "source": [
    "@njit\n",
    "def get_greedy(v, model):\n",
    "    \"Get a v-greedy policy.  Returns indices of choices.\"\n",
    "    K, c, κ, p = model.params\n",
    "    r, R, y_vals, z_vals, Q = model.arrays\n",
    "    n_y, n_z = model.sizes\n",
    "    σ_star = np.zeros((len(y_vals), n_z), dtype=int32)\n",
    "    for i_z in range(n_z):\n",
    "        for y in y_vals:\n",
    "            max_val = -np.inf\n",
    "            for a in range(K - y + 1):\n",
    "                current_val = B(y, i_z, a, v, model)\n",
    "                if current_val > max_val:\n",
    "                    maximizer = a\n",
    "                    max_val = current_val\n",
    "            σ_star[y, i_z] = maximizer\n",
    "    return σ_star"
   ]
  },
  {
   "cell_type": "code",
   "execution_count": 20,
   "id": "0e502679",
   "metadata": {
    "execution": {
     "iopub.execute_input": "2023-08-20T09:51:39.642672Z",
     "iopub.status.busy": "2023-08-20T09:51:39.642507Z",
     "iopub.status.idle": "2023-08-20T09:51:39.646451Z",
     "shell.execute_reply": "2023-08-20T09:51:39.646036Z"
    }
   },
   "outputs": [],
   "source": [
    "@njit\n",
    "def get_value(σ, model):\n",
    "    \"Get the value v_σ of policy σ.\"\n",
    "    K, c, κ, p = model.params\n",
    "    r, R, y_vals, z_vals, Q = model.arrays\n",
    "    n_y, n_z = model.sizes\n",
    "    n = n_z * n_y\n",
    "    # Build L_σ and r_σ as multi-index arrays\n",
    "    L_σ = np.zeros((n_y, n_z, n_y, n_z))\n",
    "    r_σ = np.zeros((n_y, n_z))\n",
    "    for y in y_vals:\n",
    "        for i_z in range(n_z):\n",
    "            a = σ[y, i_z]\n",
    "            β = z_vals[i_z]\n",
    "            r_σ[y, i_z] = r[y, a]\n",
    "            for yp in y_vals:\n",
    "                for i_zp in range(n_z):\n",
    "                    L_σ[y, i_z, yp, i_zp] = β * R[y, a, yp] * Q[i_z, i_zp]\n",
    "    # Reshape for matrix algebra\n",
    "    L_σ = np.reshape(L_σ, (n, n))\n",
    "    r_σ = np.reshape(r_σ, n)\n",
    "    # Apply matrix operations --- solve for the value of σ \n",
    "    I = np.identity(n)\n",
    "    v_σ = np.linalg.solve(I - L_σ,  r_σ)\n",
    "    # Return as multi-index array\n",
    "    return np.reshape(v_σ, (n_y, n_z))"
   ]
  },
  {
   "cell_type": "markdown",
   "id": "84724407",
   "metadata": {},
   "source": [
    "# Custom solvers "
   ]
  },
  {
   "cell_type": "code",
   "execution_count": 21,
   "id": "e67178ac",
   "metadata": {
    "execution": {
     "iopub.execute_input": "2023-08-20T09:51:39.647859Z",
     "iopub.status.busy": "2023-08-20T09:51:39.647738Z",
     "iopub.status.idle": "2023-08-20T09:51:39.651507Z",
     "shell.execute_reply": "2023-08-20T09:51:39.651096Z"
    }
   },
   "outputs": [],
   "source": [
    "def solve_model_numba(model, algorithm=\"OPI\", **kwargs):\n",
    "    \"\"\"\n",
    "    General purpose solver. \n",
    "\n",
    "    algorithm : OPI, VFI or HPI\n",
    "\n",
    "    \"\"\"\n",
    "\n",
    "    # Set up\n",
    "    n_y, n_z = model.sizes\n",
    "    v_init = np.zeros((n_y, n_z))\n",
    "\n",
    "    # Solve\n",
    "    print(f\"Solving model using {algorithm}.\")\n",
    "    match algorithm:\n",
    "        case \"OPI\":\n",
    "            solver = optimistic_policy_iteration\n",
    "            args = (v_init, \n",
    "                lambda v, σ: T_σ(v, σ, model), \n",
    "                lambda v: get_greedy(v, model))\n",
    "        case \"HPI\":\n",
    "            solver = howard_policy_iteration\n",
    "            args = (v_init, \n",
    "                lambda σ: get_value(σ, model), \n",
    "                lambda v: get_greedy(v, model))\n",
    "        case \"VFI\":\n",
    "            solver = value_function_iteration\n",
    "            args = (v_init, \n",
    "                lambda v: T(v, model), \n",
    "                lambda v: get_greedy(v, model))\n",
    "        case _:\n",
    "            raise ValueError(\"Algorithm must be in {OPI, VFI, HPI}\")\n",
    "\n",
    "    qe.tic()\n",
    "    v_star, σ_star = solver(*args, **kwargs)\n",
    "    run_time = qe.toc()\n",
    "    print(f\"Solved model using {algorithm} in {run_time:.5f} seconds.\")\n",
    "\n",
    "    return v_star, σ_star"
   ]
  },
  {
   "cell_type": "code",
   "execution_count": 22,
   "id": "640867eb",
   "metadata": {
    "execution": {
     "iopub.execute_input": "2023-08-20T09:51:39.652916Z",
     "iopub.status.busy": "2023-08-20T09:51:39.652795Z",
     "iopub.status.idle": "2023-08-20T09:51:39.656607Z",
     "shell.execute_reply": "2023-08-20T09:51:39.656200Z"
    }
   },
   "outputs": [],
   "source": [
    "def test_timing_numba(model,\n",
    "                      m_vals=range(1, 100, 20),\n",
    "                      figname=\"numba_timing.pdf\",\n",
    "                      savefig=False):\n",
    "    \"\"\"\n",
    "    Plot relative timing of different algorithms.\n",
    "\n",
    "    \"\"\"\n",
    "\n",
    "    qe.tic()\n",
    "    _, σ_pi = solve_model_numba(model, algorithm=\"HPI\")\n",
    "    hpi_time = qe.toc()\n",
    "\n",
    "    qe.tic()\n",
    "    _, σ_vfi = solve_model_numba(model, algorithm=\"VFI\")\n",
    "    vfi_time = qe.toc()\n",
    "\n",
    "    error = np.max(np.abs(σ_vfi - σ_pi))\n",
    "    if error:\n",
    "        print(\"Warning: VFI policy deviated with max error {error}.\")\n",
    "\n",
    "    opi_times = []\n",
    "    for m in m_vals:\n",
    "        qe.tic()\n",
    "        _, σ_opi = solve_model_numba(model, algorithm=\"OPI\", m=m)\n",
    "        opi_times.append(qe.toc())\n",
    "\n",
    "        error = np.max(np.abs(σ_opi - σ_pi))\n",
    "        if error:\n",
    "            print(\"Warning: OPI policy deviated with max error {error}.\")\n",
    "\n",
    "    plot_timing(hpi_time, \n",
    "                vfi_time,\n",
    "                opi_times,\n",
    "                m_vals, \n",
    "                figname=figname,\n",
    "                savefig=False)\n",
    "\n",
    "    return hpi_time, vfi_time, opi_times"
   ]
  },
  {
   "cell_type": "markdown",
   "id": "011cb0c1",
   "metadata": {},
   "source": [
    "# Simulations and plots "
   ]
  },
  {
   "cell_type": "code",
   "execution_count": 23,
   "id": "cdaea562",
   "metadata": {
    "execution": {
     "iopub.execute_input": "2023-08-20T09:51:39.658152Z",
     "iopub.status.busy": "2023-08-20T09:51:39.657916Z",
     "iopub.status.idle": "2023-08-20T09:51:40.273744Z",
     "shell.execute_reply": "2023-08-20T09:51:40.273272Z"
    }
   },
   "outputs": [
    {
     "name": "stdout",
     "output_type": "stream",
     "text": [
      "Building model with ρ(L) = 0.977143695769931\n"
     ]
    }
   ],
   "source": [
    "model = create_sdd_inventory_model()"
   ]
  },
  {
   "cell_type": "markdown",
   "id": "a9d1557e",
   "metadata": {},
   "source": [
    "## Solve by VFI"
   ]
  },
  {
   "cell_type": "code",
   "execution_count": 24,
   "id": "65a2393d",
   "metadata": {
    "execution": {
     "iopub.execute_input": "2023-08-20T09:51:40.275829Z",
     "iopub.status.busy": "2023-08-20T09:51:40.275651Z",
     "iopub.status.idle": "2023-08-20T09:52:23.442380Z",
     "shell.execute_reply": "2023-08-20T09:52:23.441921Z"
    }
   },
   "outputs": [
    {
     "name": "stdout",
     "output_type": "stream",
     "text": [
      "Solving model using VFI.\n"
     ]
    },
    {
     "name": "stdout",
     "output_type": "stream",
     "text": [
      "Completed iteration 25 with error 0.573977992480982.\n"
     ]
    },
    {
     "name": "stdout",
     "output_type": "stream",
     "text": [
      "Completed iteration 50 with error 0.4016430079271913.\n"
     ]
    },
    {
     "name": "stdout",
     "output_type": "stream",
     "text": [
      "Completed iteration 75 with error 0.25370625675734715.\n"
     ]
    },
    {
     "name": "stdout",
     "output_type": "stream",
     "text": [
      "Completed iteration 100 with error 0.15160902156796396.\n"
     ]
    },
    {
     "name": "stdout",
     "output_type": "stream",
     "text": [
      "Completed iteration 125 with error 0.08410577632668037.\n"
     ]
    },
    {
     "name": "stdout",
     "output_type": "stream",
     "text": [
      "Completed iteration 150 with error 0.04033201378754114.\n"
     ]
    },
    {
     "name": "stdout",
     "output_type": "stream",
     "text": [
      "Completed iteration 175 with error 0.02018995695343051.\n"
     ]
    },
    {
     "name": "stdout",
     "output_type": "stream",
     "text": [
      "Completed iteration 200 with error 0.011168317779343795.\n"
     ]
    },
    {
     "name": "stdout",
     "output_type": "stream",
     "text": [
      "Completed iteration 225 with error 0.006278262218593511.\n"
     ]
    },
    {
     "name": "stdout",
     "output_type": "stream",
     "text": [
      "Completed iteration 250 with error 0.00352780405119546.\n"
     ]
    },
    {
     "name": "stdout",
     "output_type": "stream",
     "text": [
      "Completed iteration 275 with error 0.001980897681761462.\n"
     ]
    },
    {
     "name": "stdout",
     "output_type": "stream",
     "text": [
      "Completed iteration 300 with error 0.0011118451957941033.\n"
     ]
    },
    {
     "name": "stdout",
     "output_type": "stream",
     "text": [
      "Completed iteration 325 with error 0.000623919808440121.\n"
     ]
    },
    {
     "name": "stdout",
     "output_type": "stream",
     "text": [
      "Completed iteration 350 with error 0.0003500730069347924.\n"
     ]
    },
    {
     "name": "stdout",
     "output_type": "stream",
     "text": [
      "Completed iteration 375 with error 0.0001964074690903317.\n"
     ]
    },
    {
     "name": "stdout",
     "output_type": "stream",
     "text": [
      "Completed iteration 400 with error 0.00011018953768626716.\n"
     ]
    },
    {
     "name": "stdout",
     "output_type": "stream",
     "text": [
      "Completed iteration 425 with error 6.181775446378879e-05.\n"
     ]
    },
    {
     "name": "stdout",
     "output_type": "stream",
     "text": [
      "Completed iteration 450 with error 3.468013563434624e-05.\n"
     ]
    },
    {
     "name": "stdout",
     "output_type": "stream",
     "text": [
      "Completed iteration 475 with error 1.9455634081566586e-05.\n"
     ]
    },
    {
     "name": "stdout",
     "output_type": "stream",
     "text": [
      "Completed iteration 500 with error 1.091461294322471e-05.\n"
     ]
    },
    {
     "name": "stdout",
     "output_type": "stream",
     "text": [
      "Completed iteration 525 with error 6.123086102149955e-06.\n"
     ]
    },
    {
     "name": "stdout",
     "output_type": "stream",
     "text": [
      "Completed iteration 550 with error 3.435040639487852e-06.\n"
     ]
    },
    {
     "name": "stdout",
     "output_type": "stream",
     "text": [
      "Completed iteration 575 with error 1.927050540473374e-06.\n"
     ]
    },
    {
     "name": "stdout",
     "output_type": "stream",
     "text": [
      "Completed iteration 600 with error 1.0810708843678185e-06.\n"
     ]
    },
    {
     "name": "stdout",
     "output_type": "stream",
     "text": [
      "VFI terminated successfully in 605 iterations.\n"
     ]
    },
    {
     "name": "stdout",
     "output_type": "stream",
     "text": [
      "TOC: Elapsed: 0:00:43.16\n",
      "Solved model using VFI in 43.16409 seconds.\n"
     ]
    }
   ],
   "source": [
    "v_star, σ_star = solve_model_numba(model, algorithm=\"VFI\", verbose=\"True\")"
   ]
  },
  {
   "cell_type": "markdown",
   "id": "d224054b",
   "metadata": {},
   "source": [
    "## Solve by HPI"
   ]
  },
  {
   "cell_type": "code",
   "execution_count": 25,
   "id": "d45fc975",
   "metadata": {
    "execution": {
     "iopub.execute_input": "2023-08-20T09:52:23.443910Z",
     "iopub.status.busy": "2023-08-20T09:52:23.443751Z",
     "iopub.status.idle": "2023-08-20T09:52:25.872460Z",
     "shell.execute_reply": "2023-08-20T09:52:25.871953Z"
    }
   },
   "outputs": [
    {
     "name": "stdout",
     "output_type": "stream",
     "text": [
      "Solving model using HPI.\n"
     ]
    },
    {
     "name": "stdout",
     "output_type": "stream",
     "text": [
      "Concluded loop 1 with error 71.\n",
      "Concluded loop 2 with error 64.\n",
      "Concluded loop 3 with error 34.\n"
     ]
    },
    {
     "name": "stdout",
     "output_type": "stream",
     "text": [
      "Concluded loop 4 with error 33.\n",
      "Concluded loop 5 with error 24.\n",
      "Concluded loop 6 with error 25.\n"
     ]
    },
    {
     "name": "stdout",
     "output_type": "stream",
     "text": [
      "Concluded loop 7 with error 25.\n",
      "Concluded loop 8 with error 0.\n",
      "HPI converged in 8 iteration(s).\n",
      "TOC: Elapsed: 0:00:2.42\n",
      "Solved model using HPI in 2.42597 seconds.\n"
     ]
    }
   ],
   "source": [
    "v_star, σ_star = solve_model_numba(model, algorithm=\"HPI\", verbose=\"True\")"
   ]
  },
  {
   "cell_type": "markdown",
   "id": "252abd59",
   "metadata": {},
   "source": [
    "## Solve by OPI"
   ]
  },
  {
   "cell_type": "code",
   "execution_count": 26,
   "id": "119d462c",
   "metadata": {
    "execution": {
     "iopub.execute_input": "2023-08-20T09:52:25.874200Z",
     "iopub.status.busy": "2023-08-20T09:52:25.873904Z",
     "iopub.status.idle": "2023-08-20T09:52:29.981751Z",
     "shell.execute_reply": "2023-08-20T09:52:29.981288Z"
    },
    "lines_to_next_cell": 2
   },
   "outputs": [
    {
     "name": "stdout",
     "output_type": "stream",
     "text": [
      "Solving model using OPI.\n"
     ]
    },
    {
     "name": "stdout",
     "output_type": "stream",
     "text": [
      "Completed iteration 10 with error 0.3664662873701232.\n"
     ]
    },
    {
     "name": "stdout",
     "output_type": "stream",
     "text": [
      "Completed iteration 20 with error 0.0036724615057934784.\n"
     ]
    },
    {
     "name": "stdout",
     "output_type": "stream",
     "text": [
      "Completed iteration 30 with error 3.603562219467449e-05.\n"
     ]
    },
    {
     "name": "stdout",
     "output_type": "stream",
     "text": [
      "OPI terminated successfully in 39 iterations (m = 20).\n",
      "TOC: Elapsed: 0:00:4.10\n",
      "Solved model using OPI in 4.10506 seconds.\n"
     ]
    }
   ],
   "source": [
    "v_star, σ_star = solve_model_numba(model, algorithm=\"OPI\", verbose=\"True\")"
   ]
  },
  {
   "cell_type": "code",
   "execution_count": 27,
   "id": "ef1bd9a8",
   "metadata": {
    "execution": {
     "iopub.execute_input": "2023-08-20T09:52:29.983473Z",
     "iopub.status.busy": "2023-08-20T09:52:29.983315Z",
     "iopub.status.idle": "2023-08-20T09:52:30.404158Z",
     "shell.execute_reply": "2023-08-20T09:52:30.403701Z"
    }
   },
   "outputs": [
    {
     "data": {
      "image/png": "[encoded data removed]",
      "text/plain": [
       "<Figure size 900x550 with 2 Axes>"
      ]
     },
     "metadata": {},
     "output_type": "display_data"
    }
   ],
   "source": [
    "plot_ts(model, σ_star, figname=\"numba_ts.pdf\", savefig=False)"
   ]
  },
  {
   "cell_type": "markdown",
   "id": "eee5dac3",
   "metadata": {},
   "source": [
    "## Test timing"
   ]
  },
  {
   "cell_type": "code",
   "execution_count": 28,
   "id": "6483549f",
   "metadata": {
    "execution": {
     "iopub.execute_input": "2023-08-20T09:52:30.405836Z",
     "iopub.status.busy": "2023-08-20T09:52:30.405715Z",
     "iopub.status.idle": "2023-08-20T09:54:08.147873Z",
     "shell.execute_reply": "2023-08-20T09:54:08.147557Z"
    }
   },
   "outputs": [
    {
     "name": "stdout",
     "output_type": "stream",
     "text": [
      "Solving model using HPI.\n"
     ]
    },
    {
     "name": "stdout",
     "output_type": "stream",
     "text": [
      "HPI converged in 8 iteration(s).\n",
      "TOC: Elapsed: 0:00:0.90\n",
      "Solved model using HPI in 0.90696 seconds.\n",
      "TOC: Elapsed: 0:00:0.90\n",
      "Solving model using VFI.\n"
     ]
    },
    {
     "name": "stdout",
     "output_type": "stream",
     "text": [
      "TOC: Elapsed: 0:00:42.14\n",
      "Solved model using VFI in 42.14682 seconds.\n",
      "TOC: Elapsed: 0:00:42.14\n",
      "Solving model using OPI.\n"
     ]
    },
    {
     "name": "stdout",
     "output_type": "stream",
     "text": [
      "OPI terminated successfully in 605 iterations (m = 1).\n",
      "TOC: Elapsed: 0:00:42.47\n",
      "Solved model using OPI in 42.47102 seconds.\n",
      "TOC: Elapsed: 0:00:42.47\n",
      "Solving model using OPI.\n"
     ]
    },
    {
     "name": "stdout",
     "output_type": "stream",
     "text": [
      "OPI terminated successfully in 38 iterations (m = 21).\n",
      "TOC: Elapsed: 0:00:3.73\n",
      "Solved model using OPI in 3.73570 seconds.\n",
      "TOC: Elapsed: 0:00:3.73\n",
      "Solving model using OPI.\n"
     ]
    },
    {
     "name": "stdout",
     "output_type": "stream",
     "text": [
      "OPI terminated successfully in 22 iterations (m = 41).\n",
      "TOC: Elapsed: 0:00:2.76\n",
      "Solved model using OPI in 2.76162 seconds.\n",
      "TOC: Elapsed: 0:00:2.76\n",
      "Solving model using OPI.\n"
     ]
    },
    {
     "name": "stdout",
     "output_type": "stream",
     "text": [
      "OPI terminated successfully in 19 iterations (m = 61).\n",
      "TOC: Elapsed: 0:00:2.89\n",
      "Solved model using OPI in 2.89371 seconds.\n",
      "TOC: Elapsed: 0:00:2.89\n",
      "Solving model using OPI.\n"
     ]
    },
    {
     "name": "stdout",
     "output_type": "stream",
     "text": [
      "OPI terminated successfully in 15 iterations (m = 81).\n",
      "TOC: Elapsed: 0:00:2.72\n",
      "Solved model using OPI in 2.72053 seconds.\n",
      "TOC: Elapsed: 0:00:2.72\n"
     ]
    },
    {
     "data": {
      "image/png": "[encoded data removed]",
      "text/plain": [
       "<Figure size 900x520 with 1 Axes>"
      ]
     },
     "metadata": {},
     "output_type": "display_data"
    }
   ],
   "source": [
    "hpi_time, vfi_time, opi_times = test_timing_numba(model)"
   ]
  },
  {
   "cell_type": "code",
   "execution_count": 29,
   "id": "b06045b2",
   "metadata": {
    "execution": {
     "iopub.execute_input": "2023-08-20T09:54:08.149492Z",
     "iopub.status.busy": "2023-08-20T09:54:08.149282Z",
     "iopub.status.idle": "2023-08-20T09:54:08.152192Z",
     "shell.execute_reply": "2023-08-20T09:54:08.151739Z"
    }
   },
   "outputs": [
    {
     "name": "stdout",
     "output_type": "stream",
     "text": [
      "\n",
      "Run times relative to HPI:\n",
      "\n",
      "HPI = 0.9069786071777344\n",
      "VFI / HPI = 46.46952060700121\n",
      "best OPI / HPI = 2.9995828233631534\n"
     ]
    }
   ],
   "source": [
    "print(\"\\nRun times relative to HPI:\\n\")\n",
    "print(f\"HPI = {hpi_time}\")\n",
    "print(f\"VFI / HPI = {vfi_time / hpi_time}\")\n",
    "print(f\"best OPI / HPI = {min(opi_times) / hpi_time}\")"
   ]
  }
 ],
 "metadata": {
  "jupytext": {
   "cell_metadata_filter": "-all",
   "main_language": "python",
   "notebook_metadata_filter": "-all"
  },
  "kernelspec": {
   "display_name": "Python 3 (ipykernel)",
   "language": "python",
   "name": "python3"
  },
  "language_info": {
   "codemirror_mode": {
    "name": "ipython",
    "version": 3
   },
   "file_extension": ".py",
   "mimetype": "text/x-python",
   "name": "python",
   "nbconvert_exporter": "python",
   "pygments_lexer": "ipython3",
   "version": "3.7.16"
  }
 },
 "nbformat": 4,
 "nbformat_minor": 5
}
