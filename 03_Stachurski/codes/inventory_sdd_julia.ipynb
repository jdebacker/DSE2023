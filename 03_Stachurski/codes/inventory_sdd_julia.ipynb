{
 "cells": [
  {
   "cell_type": "markdown",
   "id": "c9a255f4",
   "metadata": {
    "lines_to_next_cell": 2
   },
   "source": [
    "# Inventory management via Julia"
   ]
  },
  {
   "cell_type": "code",
   "execution_count": 3,
   "id": "266ff69e",
   "metadata": {
    "execution": {
     "iopub.execute_input": "2023-08-20T19:37:55.246000Z",
     "iopub.status.busy": "2023-08-20T19:37:54.875000Z",
     "iopub.status.idle": "2023-08-20T19:37:59.379000Z",
     "shell.execute_reply": "2023-08-20T19:37:59.325000Z"
    }
   },
   "outputs": [
    {
     "name": "stderr",
     "output_type": "stream",
     "text": [
      "\u001b[32m\u001b[1m   Resolving\u001b[22m\u001b[39m package versions...\n",
      "\u001b[32m\u001b[1m  No Changes\u001b[22m\u001b[39m to `~/.julia/environments/v1.7/Project.toml`\n",
      "\u001b[32m\u001b[1m  No Changes\u001b[22m\u001b[39m to `~/.julia/environments/v1.7/Manifest.toml`\n",
      "\u001b[32m\u001b[1m   Resolving\u001b[22m\u001b[39m package versions...\n",
      "\u001b[32m\u001b[1m   Installed\u001b[22m\u001b[39m IntegerMathUtils ─────── v0.1.2\n",
      "\u001b[32m\u001b[1m   Installed\u001b[22m\u001b[39m Adapt ────────────────── v3.6.2\n",
      "\u001b[32m\u001b[1m   Installed\u001b[22m\u001b[39m NLopt_jll ────────────── v2.7.1+0\n",
      "\u001b[32m\u001b[1m   Installed\u001b[22m\u001b[39m NLopt ────────────────── v0.6.5\n",
      "\u001b[32m\u001b[1m   Installed\u001b[22m\u001b[39m FFTW ─────────────────── v1.7.1\n",
      "\u001b[32m\u001b[1m   Installed\u001b[22m\u001b[39m ArnoldiMethod ────────── v0.2.0\n",
      "\u001b[32m\u001b[1m   Installed\u001b[22m\u001b[39m DSP ──────────────────── v0.7.8\n",
      "\u001b[32m\u001b[1m   Installed\u001b[22m\u001b[39m MakieCore ────────────── v0.6.5\n",
      "\u001b[32m\u001b[1m   Installed\u001b[22m\u001b[39m PositiveFactorizations ─ v0.2.4\n",
      "\u001b[32m\u001b[1m   Installed\u001b[22m\u001b[39m QuantEcon ────────────── v0.16.5\n",
      "\u001b[32m\u001b[1m   Installed\u001b[22m\u001b[39m Inflate ──────────────── v0.1.3\n",
      "\u001b[32m\u001b[1m   Installed\u001b[22m\u001b[39m Setfield ─────────────── v1.1.1\n",
      "\u001b[32m\u001b[1m   Installed\u001b[22m\u001b[39m IterTools ────────────── v1.4.0\n",
      "\u001b[32m\u001b[1m   Installed\u001b[22m\u001b[39m MKL_jll ──────────────── v2023.2.0+0\n",
      "\u001b[32m\u001b[1m   Installed\u001b[22m\u001b[39m RecipesBase ──────────── v1.3.4\n",
      "\u001b[32m\u001b[1m   Installed\u001b[22m\u001b[39m Optim ────────────────── v1.7.7\n",
      "\u001b[32m\u001b[1m   Installed\u001b[22m\u001b[39m Primes ───────────────── v0.5.4\n",
      "\u001b[32m\u001b[1m   Installed\u001b[22m\u001b[39m ConstructionBase ─────── v1.5.3\n",
      "\u001b[32m\u001b[1m   Installed\u001b[22m\u001b[39m AbstractFFTs ─────────── v1.5.0\n",
      "\u001b[32m\u001b[1m   Installed\u001b[22m\u001b[39m NLSolversBase ────────── v7.8.3\n",
      "\u001b[32m\u001b[1m   Installed\u001b[22m\u001b[39m MathProgBase ─────────── v0.7.8\n",
      "\u001b[32m\u001b[1m   Installed\u001b[22m\u001b[39m IntelOpenMP_jll ──────── v2023.2.0+0\n",
      "\u001b[32m\u001b[1m   Installed\u001b[22m\u001b[39m LineSearches ─────────── v7.2.0\n",
      "\u001b[32m\u001b[1m   Installed\u001b[22m\u001b[39m ArrayInterface ───────── v7.4.11\n",
      "\u001b[32m\u001b[1m   Installed\u001b[22m\u001b[39m Observables ──────────── v0.5.4\n",
      "\u001b[32m\u001b[1m   Installed\u001b[22m\u001b[39m FFTW_jll ─────────────── v3.3.10+0\n",
      "\u001b[32m\u001b[1m   Installed\u001b[22m\u001b[39m Polynomials ──────────── v3.2.13\n",
      "\u001b[32m\u001b[1m   Installed\u001b[22m\u001b[39m Graphs ───────────────── v1.8.0\n",
      "\u001b[32m\u001b[1m   Installed\u001b[22m\u001b[39m UnPack ───────────────── v1.0.2\n",
      "\u001b[32m\u001b[1m   Installed\u001b[22m\u001b[39m Parameters ───────────── v0.12.3\n",
      "\u001b[32m\u001b[1m   Installed\u001b[22m\u001b[39m SimpleTraits ─────────── v0.9.4\n",
      "\u001b[32m\u001b[1m   Installed\u001b[22m\u001b[39m FiniteDiff ───────────── v2.21.1\n",
      "\u001b[32m\u001b[1m    Updating\u001b[22m\u001b[39m `~/.julia/environments/v1.7/Project.toml`\n",
      " \u001b[90m [fcd29c91] \u001b[39m\u001b[92m+ QuantEcon v0.16.5\u001b[39m\n",
      "\u001b[32m\u001b[1m    Updating\u001b[22m\u001b[39m `~/.julia/environments/v1.7/Manifest.toml`\n",
      " \u001b[90m [621f4979] \u001b[39m\u001b[92m+ AbstractFFTs v1.5.0\u001b[39m\n",
      " \u001b[90m [79e6a3ab] \u001b[39m\u001b[92m+ Adapt v3.6.2\u001b[39m\n",
      " \u001b[90m [ec485272] \u001b[39m\u001b[92m+ ArnoldiMethod v0.2.0\u001b[39m\n",
      " \u001b[90m [4fba245c] \u001b[39m\u001b[92m+ ArrayInterface v7.4.11\u001b[39m\n",
      " \u001b[90m [187b0558] \u001b[39m\u001b[92m+ ConstructionBase v1.5.3\u001b[39m\n",
      " \u001b[90m [717857b8] \u001b[39m\u001b[92m+ DSP v0.7.8\u001b[39m\n",
      " \u001b[90m [7a1cc6ca] \u001b[39m\u001b[92m+ FFTW v1.7.1\u001b[39m\n",
      " \u001b[90m [6a86dc24] \u001b[39m\u001b[92m+ FiniteDiff v2.21.1\u001b[39m\n",
      " \u001b[90m [86223c79] \u001b[39m\u001b[92m+ Graphs v1.8.0\u001b[39m\n",
      " \u001b[90m [d25df0c9] \u001b[39m\u001b[92m+ Inflate v0.1.3\u001b[39m\n",
      " \u001b[90m [18e54dd8] \u001b[39m\u001b[92m+ IntegerMathUtils v0.1.2\u001b[39m\n",
      " \u001b[90m [c8e1da08] \u001b[39m\u001b[92m+ IterTools v1.4.0\u001b[39m\n",
      " \u001b[90m [d3d80556] \u001b[39m\u001b[92m+ LineSearches v7.2.0\u001b[39m\n",
      " \u001b[90m [20f20a25] \u001b[39m\u001b[92m+ MakieCore v0.6.5\u001b[39m\n",
      " \u001b[90m [fdba3010] \u001b[39m\u001b[92m+ MathProgBase v0.7.8\u001b[39m\n",
      " \u001b[90m [d41bc354] \u001b[39m\u001b[92m+ NLSolversBase v7.8.3\u001b[39m\n",
      " \u001b[90m [76087f3c] \u001b[39m\u001b[92m+ NLopt v0.6.5\u001b[39m\n",
      " \u001b[90m [510215fc] \u001b[39m\u001b[92m+ Observables v0.5.4\u001b[39m\n",
      " \u001b[90m [429524aa] \u001b[39m\u001b[92m+ Optim v1.7.7\u001b[39m\n",
      " \u001b[90m [d96e819e] \u001b[39m\u001b[92m+ Parameters v0.12.3\u001b[39m\n",
      " \u001b[90m [f27b6e38] \u001b[39m\u001b[92m+ Polynomials v3.2.13\u001b[39m\n",
      " \u001b[90m [85a6dd25] \u001b[39m\u001b[92m+ PositiveFactorizations v0.2.4\u001b[39m\n",
      " \u001b[90m [27ebfcd6] \u001b[39m\u001b[92m+ Primes v0.5.4\u001b[39m\n",
      " \u001b[90m [fcd29c91] \u001b[39m\u001b[92m+ QuantEcon v0.16.5\u001b[39m\n",
      " \u001b[90m [3cdcf5f2] \u001b[39m\u001b[92m+ RecipesBase v1.3.4\u001b[39m\n",
      " \u001b[90m [efcf1570] \u001b[39m\u001b[92m+ Setfield v1.1.1\u001b[39m\n",
      " \u001b[90m [699a6c99] \u001b[39m\u001b[92m+ SimpleTraits v0.9.4\u001b[39m\n",
      " \u001b[90m [3a884ed6] \u001b[39m\u001b[92m+ UnPack v1.0.2\u001b[39m\n",
      " \u001b[90m [f5851436] \u001b[39m\u001b[92m+ FFTW_jll v3.3.10+0\u001b[39m\n",
      " \u001b[90m [1d5cc7b8] \u001b[39m\u001b[92m+ IntelOpenMP_jll v2023.2.0+0\u001b[39m\n",
      " \u001b[90m [856f044c] \u001b[39m\u001b[92m+ MKL_jll v2023.2.0+0\u001b[39m\n",
      " \u001b[90m [079eb43e] \u001b[39m\u001b[92m+ NLopt_jll v2.7.1+0\u001b[39m\n",
      " \u001b[90m [8ba89e20] \u001b[39m\u001b[92m+ Distributed\u001b[39m\n",
      " \u001b[90m [9fa8497b] \u001b[39m\u001b[92m+ Future\u001b[39m\n",
      " \u001b[90m [4af54fe1] \u001b[39m\u001b[92m+ LazyArtifacts\u001b[39m\n",
      " \u001b[90m [1a1011a3] \u001b[39m\u001b[92m+ SharedArrays\u001b[39m\n",
      "\u001b[32m\u001b[1mPrecompiling\u001b[22m\u001b[39m project...\n",
      "\u001b[32m  ✓ \u001b[39m\u001b[90mUnPack\u001b[39m\n",
      "\u001b[32m  ✓ \u001b[39m\u001b[90mIntegerMathUtils\u001b[39m\n",
      "\u001b[32m  ✓ \u001b[39m\u001b[90mPositiveFactorizations\u001b[39m\n",
      "\u001b[32m  ✓ \u001b[39m\u001b[90mObservables\u001b[39m\n",
      "\u001b[32m  ✓ \u001b[39m\u001b[90mConstructionBase\u001b[39m\n",
      "\u001b[32m  ✓ \u001b[39m\u001b[90mInflate\u001b[39m\n",
      "\u001b[32m  ✓ \u001b[39m\u001b[90mAdapt\u001b[39m\n",
      "\u001b[32m  ✓ \u001b[39m\u001b[90mMathProgBase\u001b[39m\n",
      "\u001b[32m  ✓ \u001b[39m\u001b[90mIterTools\u001b[39m\n",
      "\u001b[32m  ✓ \u001b[39m\u001b[90mParameters\u001b[39m\n",
      "\u001b[32m  ✓ \u001b[39m\u001b[90mPrimes\u001b[39m\n",
      "\u001b[32m  ✓ \u001b[39m\u001b[90mIntelOpenMP_jll\u001b[39m\n",
      "\u001b[32m  ✓ \u001b[39m\u001b[90mFFTW_jll\u001b[39m\n",
      "\u001b[32m  ✓ \u001b[39m\u001b[90mMakieCore\u001b[39m\n",
      "\u001b[32m  ✓ \u001b[39m\u001b[90mSimpleTraits\u001b[39m\n",
      "\u001b[32m  ✓ \u001b[39m\u001b[90mNLopt_jll\u001b[39m\n",
      "\u001b[32m  ✓ \u001b[39m\u001b[90mRecipesBase\u001b[39m\n",
      "\u001b[32m  ✓ \u001b[39m\u001b[90mAbstractFFTs\u001b[39m\n",
      "\u001b[32m  ✓ \u001b[39m\u001b[90mArrayInterface\u001b[39m\n",
      "\u001b[32m  ✓ \u001b[39m\u001b[90mSetfield\u001b[39m\n",
      "\u001b[32m  ✓ \u001b[39m\u001b[90mArnoldiMethod\u001b[39m\n",
      "\u001b[32m  ✓ \u001b[39m\u001b[90mMKL_jll\u001b[39m\n",
      "\u001b[32m  ✓ \u001b[39m\u001b[90mFiniteDiff\u001b[39m\n",
      "\u001b[32m  ✓ \u001b[39m\u001b[90mNLSolversBase\u001b[39m\n",
      "\u001b[32m  ✓ \u001b[39m\u001b[90mFFTW\u001b[39m\n",
      "\u001b[32m  ✓ \u001b[39m\u001b[90mGraphs\u001b[39m\n",
      "\u001b[32m  ✓ \u001b[39m\u001b[90mNLopt\u001b[39m\n",
      "\u001b[32m  ✓ \u001b[39m\u001b[90mLineSearches\u001b[39m\n",
      "\u001b[32m  ✓ \u001b[39m\u001b[90mOptim\u001b[39m\n",
      "\u001b[32m  ✓ \u001b[39m\u001b[90mPolynomials\u001b[39m\n",
      "\u001b[32m  ✓ \u001b[39m\u001b[90mDSP\u001b[39m\n",
      "\u001b[32m  ✓ \u001b[39mQuantEcon\n",
      "  32 dependencies successfully precompiled in 21 seconds (78 already precompiled)\n"
     ]
    }
   ],
   "source": [
    "import Pkg; Pkg.add(\"Distributions\")\n",
    "import Pkg; Pkg.add(\"QuantEcon\")\n",
    "using LinearAlgebra, Random, Distributions, QuantEcon"
   ]
  },
  {
   "cell_type": "code",
   "execution_count": null,
   "id": "82dd8059",
   "metadata": {},
   "outputs": [],
   "source": []
  },
  {
   "cell_type": "markdown",
   "id": "d222b926",
   "metadata": {},
   "source": [
    "# Primitives"
   ]
  },
  {
   "cell_type": "code",
   "execution_count": 2,
   "id": "9f24ead2",
   "metadata": {
    "execution": {
     "iopub.execute_input": "2023-08-20T19:37:59.495000Z",
     "iopub.status.busy": "2023-08-20T19:37:59.381000Z",
     "iopub.status.idle": "2023-08-20T19:37:59.819000Z",
     "shell.execute_reply": "2023-08-20T19:37:59.819000Z"
    }
   },
   "outputs": [
    {
     "data": {
      "text/plain": [
       "f (generic function with 1 method)"
      ]
     },
     "execution_count": 2,
     "metadata": {},
     "output_type": "execute_result"
    }
   ],
   "source": [
    "f(y, a, d) = max(y - d, 0) + a  # Inventory update"
   ]
  },
  {
   "cell_type": "code",
   "execution_count": 3,
   "id": "19b90548",
   "metadata": {
    "execution": {
     "iopub.execute_input": "2023-08-20T19:37:59.821000Z",
     "iopub.status.busy": "2023-08-20T19:37:59.821000Z",
     "iopub.status.idle": "2023-08-20T19:38:00.034000Z",
     "shell.execute_reply": "2023-08-20T19:38:00.034000Z"
    },
    "lines_to_next_cell": 2
   },
   "outputs": [
    {
     "data": {
      "text/plain": [
       "create_sdd_inventory_model"
      ]
     },
     "execution_count": 3,
     "metadata": {},
     "output_type": "execute_result"
    }
   ],
   "source": [
    "\"\"\"\n",
    "Create an instance of the model.\n",
    "\n",
    "The discount factor takes the form β_t = Z_t, where (Z_t) is \n",
    "a discretization of the Gaussian AR(1) process \n",
    "\n",
    "    Z_t = ρ Z_{t-1} + b + ν W_t.\n",
    "\n",
    "\"\"\"\n",
    "function create_sdd_inventory_model(; ρ=0.98, \n",
    "                                      ν=0.002, \n",
    "                                      n_z=12, \n",
    "                                      b=0.97, \n",
    "                                      K=100, \n",
    "                                      c=0.2, \n",
    "                                      κ=0.8, \n",
    "                                      p=0.6, \n",
    "                                      d_max=100)  # truncate demand shock\n",
    "\n",
    "    ϕ(d) = (1 - p)^d * p                      # demand pdf\n",
    "    d_vals = collect(0:d_max)\n",
    "    ϕ_vals = ϕ.(d_vals)\n",
    "    y_vals = collect(0:K)                     # inventory levels\n",
    "    n_y = length(y_vals)\n",
    "    mc = tauchen(n_z, ρ, ν)\n",
    "    z_vals, Q = mc.state_values .+ b, mc.p\n",
    "\n",
    "    # test spectral radius condition\n",
    "    ρL = maximum(abs.(eigvals(z_vals .* Q)))     \n",
    "    @assert  ρL < 1 \"Error: ρ(L) ≥ 1.\"    \n",
    "\n",
    "    R = zeros(n_y, n_y, n_y)\n",
    "    for (i_y, y) in enumerate(y_vals)\n",
    "        for (i_y′, y′) in enumerate(y_vals)\n",
    "            for (i_a, a) in enumerate(0:(K - y))\n",
    "                hits = f.(y, a, d_vals) .== y′\n",
    "                R[i_y, i_a, i_y′] = dot(hits, ϕ_vals)\n",
    "            end\n",
    "        end\n",
    "    end\n",
    "\n",
    "    r = fill(-Inf, n_y, n_y)\n",
    "    for (i_y, y) in enumerate(y_vals)\n",
    "        for (i_a, a) in enumerate(0:(K - y))\n",
    "                cost = c * a + κ * (a > 0)\n",
    "                r[i_y, i_a] = dot(min.(y, d_vals),  ϕ_vals) - cost\n",
    "        end\n",
    "    end\n",
    "\n",
    "    return (; K, c, κ, p, r, R, y_vals, z_vals, Q)\n",
    "end"
   ]
  },
  {
   "cell_type": "markdown",
   "id": "d339ad2e",
   "metadata": {
    "lines_to_next_cell": 2
   },
   "source": [
    "# Operators and Functions"
   ]
  },
  {
   "cell_type": "code",
   "execution_count": 4,
   "id": "a562122d",
   "metadata": {
    "execution": {
     "iopub.execute_input": "2023-08-20T19:38:00.036000Z",
     "iopub.status.busy": "2023-08-20T19:38:00.036000Z",
     "iopub.status.idle": "2023-08-20T19:38:00.039000Z",
     "shell.execute_reply": "2023-08-20T19:38:00.039000Z"
    }
   },
   "outputs": [
    {
     "data": {
      "text/plain": [
       "B"
      ]
     },
     "execution_count": 4,
     "metadata": {},
     "output_type": "execute_result"
    }
   ],
   "source": [
    "\"\"\"\n",
    "The function \n",
    "\n",
    "    B(y, z, a, v) = r(y, a) + β(z) Σ_{y′, z′} v(y′, z′) R(y, a, y′) Q(z, z′)\n",
    "\n",
    "\"\"\"\n",
    "function B(i_y, i_z, i_a, v, model; d_max=100)\n",
    "    (; K, c, κ, p, r, R, y_vals, z_vals, Q) = model\n",
    "    β = z_vals[i_z]\n",
    "    cv = 0.0\n",
    "    for i_z′ in eachindex(z_vals)\n",
    "        for i_y′ in eachindex(y_vals)\n",
    "            cv += v[i_y′, i_z′] * R[i_y, i_a, i_y′] * Q[i_z, i_z′]\n",
    "        end\n",
    "    end\n",
    "    return r[i_y, i_a] + β * cv\n",
    "end"
   ]
  },
  {
   "cell_type": "code",
   "execution_count": 5,
   "id": "6c4ccd2f",
   "metadata": {
    "execution": {
     "iopub.execute_input": "2023-08-20T19:38:00.041000Z",
     "iopub.status.busy": "2023-08-20T19:38:00.041000Z",
     "iopub.status.idle": "2023-08-20T19:38:00.044000Z",
     "shell.execute_reply": "2023-08-20T19:38:00.044000Z"
    }
   },
   "outputs": [
    {
     "data": {
      "text/plain": [
       "T"
      ]
     },
     "execution_count": 5,
     "metadata": {},
     "output_type": "execute_result"
    }
   ],
   "source": [
    "\"The Bellman operator.\"\n",
    "function T(v, model)\n",
    "    (; K, c, κ, p, r, R, y_vals, z_vals, Q) = model\n",
    "    new_v = similar(v)\n",
    "    for i_z in eachindex(z_vals)\n",
    "        for (i_y, y) in enumerate(y_vals)\n",
    "            Γy = 1:(K - y + 1)\n",
    "            new_v[i_y, i_z], _ = findmax(B(i_y, i_z, i_a, v, model) for i_a in Γy)\n",
    "        end\n",
    "    end\n",
    "    return new_v\n",
    "end"
   ]
  },
  {
   "cell_type": "code",
   "execution_count": 6,
   "id": "3db5b431",
   "metadata": {
    "execution": {
     "iopub.execute_input": "2023-08-20T19:38:00.046000Z",
     "iopub.status.busy": "2023-08-20T19:38:00.046000Z",
     "iopub.status.idle": "2023-08-20T19:38:00.048000Z",
     "shell.execute_reply": "2023-08-20T19:38:00.047000Z"
    },
    "lines_to_next_cell": 2
   },
   "outputs": [
    {
     "data": {
      "text/plain": [
       "T_σ"
      ]
     },
     "execution_count": 6,
     "metadata": {},
     "output_type": "execute_result"
    }
   ],
   "source": [
    "\"The policy operator.\"\n",
    "function T_σ(v, σ, model)\n",
    "    (; K, c, κ, p, r, R, y_vals, z_vals, Q) = model\n",
    "    new_v = similar(v)\n",
    "    for (i_z, z) in enumerate(z_vals)\n",
    "        for (i_y, y) in enumerate(y_vals)\n",
    "            new_v[i_y, i_z] = B(i_y, i_z, σ[i_y, i_z], v, model) \n",
    "        end\n",
    "    end\n",
    "    return new_v\n",
    "end"
   ]
  },
  {
   "cell_type": "code",
   "execution_count": 7,
   "id": "9a622254",
   "metadata": {
    "execution": {
     "iopub.execute_input": "2023-08-20T19:38:00.049000Z",
     "iopub.status.busy": "2023-08-20T19:38:00.049000Z",
     "iopub.status.idle": "2023-08-20T19:38:00.052000Z",
     "shell.execute_reply": "2023-08-20T19:38:00.052000Z"
    },
    "lines_to_next_cell": 2
   },
   "outputs": [
    {
     "data": {
      "text/plain": [
       "get_greedy"
      ]
     },
     "execution_count": 7,
     "metadata": {},
     "output_type": "execute_result"
    }
   ],
   "source": [
    "\"Get a v-greedy policy.  Returns indices of choices.\"\n",
    "function get_greedy(v, model)\n",
    "    (; K, c, κ, p, r, R, y_vals, z_vals, Q) = model\n",
    "    n_z = length(z_vals)\n",
    "    σ_star = zeros(Int32, K+1, n_z)\n",
    "    for (i_z, z) in enumerate(z_vals)\n",
    "        for (i_y, y) in enumerate(y_vals)\n",
    "            Γy = 1:(K - y + 1)\n",
    "            _, i_a = findmax(B(i_y, i_z, i_a, v, model) for i_a in Γy)\n",
    "            σ_star[i_y, i_z] = Γy[i_a]\n",
    "        end\n",
    "    end\n",
    "    return σ_star\n",
    "end"
   ]
  },
  {
   "cell_type": "code",
   "execution_count": 8,
   "id": "989ba065",
   "metadata": {
    "execution": {
     "iopub.execute_input": "2023-08-20T19:38:00.053000Z",
     "iopub.status.busy": "2023-08-20T19:38:00.053000Z",
     "iopub.status.idle": "2023-08-20T19:38:00.054000Z",
     "shell.execute_reply": "2023-08-20T19:38:00.054000Z"
    },
    "lines_to_next_cell": 2
   },
   "outputs": [
    {
     "data": {
      "text/plain": [
       "get_value_approx"
      ]
     },
     "execution_count": 8,
     "metadata": {},
     "output_type": "execute_result"
    }
   ],
   "source": [
    "\"Approximate lifetime value of policy σ.\"\n",
    "function get_value_approx(v_init, σ, m, model)\n",
    "    v = v_init\n",
    "    for i in 1:m\n",
    "        v = T_σ(v, σ, model)\n",
    "    end\n",
    "    return v\n",
    "end"
   ]
  },
  {
   "cell_type": "code",
   "execution_count": 9,
   "id": "605aab51",
   "metadata": {
    "execution": {
     "iopub.execute_input": "2023-08-20T19:38:00.056000Z",
     "iopub.status.busy": "2023-08-20T19:38:00.056000Z",
     "iopub.status.idle": "2023-08-20T19:38:00.059000Z",
     "shell.execute_reply": "2023-08-20T19:38:00.059000Z"
    },
    "lines_to_next_cell": 2
   },
   "outputs": [
    {
     "data": {
      "text/plain": [
       "get_value"
      ]
     },
     "execution_count": 9,
     "metadata": {},
     "output_type": "execute_result"
    }
   ],
   "source": [
    "\"Get the value v_σ of policy σ.\"\n",
    "function get_value(σ, model)\n",
    "    (; K, c, κ, p, r, R, y_vals, z_vals, Q) = model\n",
    "    n_z, n_y = length(z_vals), length(y_vals)\n",
    "    n = n_z * n_y\n",
    "    # Build L_σ and r_σ as multi-index arrays\n",
    "    L_σ = zeros(n_y, n_z, n_y, n_z)\n",
    "    r_σ = zeros(n_y, n_z)\n",
    "    for i_y in 1:n_y\n",
    "        for i_z in 1:n_z \n",
    "            a = σ[i_y, i_z]\n",
    "            β = z_vals[i_z]\n",
    "            r_σ[i_y, i_z] = r[i_y, a]\n",
    "            for i_yp in 1:n_y\n",
    "                for i_zp in 1:n_z\n",
    "                    L_σ[i_y, i_z, i_yp, i_zp] = β * R[i_y, a, i_yp] * Q[i_z, i_zp]\n",
    "                end\n",
    "            end\n",
    "        end\n",
    "    end\n",
    "    # Reshape for matrix algebra\n",
    "    L_σ = reshape(L_σ, n, n)\n",
    "    r_σ = reshape(r_σ, n)\n",
    "    # Apply matrix operations --- solve for the value of σ \n",
    "    v_σ = (I - L_σ) \\ r_σ\n",
    "    # Return as multi-index array\n",
    "    return reshape(v_σ, n_y, n_z)\n",
    "end"
   ]
  },
  {
   "cell_type": "code",
   "execution_count": 10,
   "id": "6e1ecd3d",
   "metadata": {
    "execution": {
     "iopub.execute_input": "2023-08-20T19:38:00.060000Z",
     "iopub.status.busy": "2023-08-20T19:38:00.060000Z",
     "iopub.status.idle": "2023-08-20T19:38:00.063000Z",
     "shell.execute_reply": "2023-08-20T19:38:00.063000Z"
    },
    "lines_to_next_cell": 2
   },
   "outputs": [
    {
     "data": {
      "text/plain": [
       "value_function_iteration"
      ]
     },
     "execution_count": 10,
     "metadata": {},
     "output_type": "execute_result"
    }
   ],
   "source": [
    "\"Use successive_approx to get v_star and then compute greedy.\"\n",
    "function value_function_iteration(v_init, \n",
    "                           model;\n",
    "                           verbose=false,\n",
    "                           tolerance=1e-6,     # error tolerance\n",
    "                           max_iter=10_000,    # max iteration bound\n",
    "                           print_step=25)      # print at multiples\n",
    "    v = v_init\n",
    "    error = Inf\n",
    "    k = 1\n",
    "    while (error > tolerance) & (k <= max_iter)\n",
    "        \n",
    "        v_new = T(v, model)\n",
    "        error = maximum(abs.(v_new - v))\n",
    "\n",
    "        if verbose && k % print_step == 0\n",
    "            println(\"Completed iteration $k with error $error.\")\n",
    "        end\n",
    "\n",
    "        v = v_new\n",
    "        k += 1\n",
    "    end\n",
    "\n",
    "    if error <= tolerance\n",
    "        println(\"Terminated successfully in $k iterations.\")\n",
    "    else\n",
    "        println(\"Warning: hit iteration bound.\")\n",
    "    end\n",
    "    v_star = v\n",
    "    σ_star = get_greedy(v_star, model)\n",
    "    return v_star, σ_star\n",
    "end"
   ]
  },
  {
   "cell_type": "code",
   "execution_count": 11,
   "id": "230e2a48",
   "metadata": {
    "execution": {
     "iopub.execute_input": "2023-08-20T19:38:00.065000Z",
     "iopub.status.busy": "2023-08-20T19:38:00.065000Z",
     "iopub.status.idle": "2023-08-20T19:38:00.067000Z",
     "shell.execute_reply": "2023-08-20T19:38:00.067000Z"
    },
    "lines_to_next_cell": 2
   },
   "outputs": [
    {
     "data": {
      "text/plain": [
       "optimistic_policy_iteration"
      ]
     },
     "execution_count": 11,
     "metadata": {},
     "output_type": "execute_result"
    }
   ],
   "source": [
    "\"Optimistic policy iteration routine.\"\n",
    "function optimistic_policy_iteration(v_init, \n",
    "                                     model; \n",
    "                                     verbose=false,\n",
    "                                     tolerance=1e-6, \n",
    "                                     max_iter=10_000,\n",
    "                                     print_step=10,\n",
    "                                     m=60)\n",
    "    v = v_init\n",
    "    error = tolerance + 1\n",
    "    k = 1\n",
    "    while error > tolerance && k < max_iter\n",
    "        last_v = v\n",
    "        σ = get_greedy(v, model)\n",
    "        v = get_value_approx(v, σ, m, model)\n",
    "        error = maximum(abs.(v - last_v))\n",
    "        if verbose && k % print_step == 0\n",
    "            println(\"Completed iteration $k with error $error.\")\n",
    "        end\n",
    "        k += 1\n",
    "    end\n",
    "    return v, get_greedy(v, model)\n",
    "end"
   ]
  },
  {
   "cell_type": "code",
   "execution_count": 12,
   "id": "9b1c07a4",
   "metadata": {
    "execution": {
     "iopub.execute_input": "2023-08-20T19:38:00.069000Z",
     "iopub.status.busy": "2023-08-20T19:38:00.069000Z",
     "iopub.status.idle": "2023-08-20T19:38:00.129000Z",
     "shell.execute_reply": "2023-08-20T19:38:00.129000Z"
    },
    "lines_to_next_cell": 2
   },
   "outputs": [
    {
     "data": {
      "text/plain": [
       "howard_policy_iteration (generic function with 1 method)"
      ]
     },
     "execution_count": 12,
     "metadata": {},
     "output_type": "execute_result"
    }
   ],
   "source": [
    "function howard_policy_iteration(v_init, model)\n",
    "    \"Howard policy iteration routine.\"\n",
    "    v_σ = v_init\n",
    "    σ = get_greedy(v_σ, model)\n",
    "    i, error = 0, 1.0\n",
    "    while error > 0\n",
    "        v_σ = get_value(σ, model)\n",
    "        σ_new = get_greedy(v_σ, model)\n",
    "        error = maximum(abs.(σ_new - σ))\n",
    "        σ = σ_new\n",
    "        i = i + 1\n",
    "        println(\"Concluded loop $i with error $error.\")\n",
    "    end\n",
    "    return v_σ, σ\n",
    "end"
   ]
  },
  {
   "cell_type": "markdown",
   "id": "4d8493b0",
   "metadata": {},
   "source": [
    "# Simulations and Plots "
   ]
  },
  {
   "cell_type": "code",
   "execution_count": 13,
   "id": "f70c6b5e",
   "metadata": {
    "execution": {
     "iopub.execute_input": "2023-08-20T19:38:00.131000Z",
     "iopub.status.busy": "2023-08-20T19:38:00.131000Z",
     "iopub.status.idle": "2023-08-20T19:38:03.041000Z",
     "shell.execute_reply": "2023-08-20T19:38:03.041000Z"
    }
   },
   "outputs": [],
   "source": [
    "using PyPlot\n",
    "using LaTeXStrings\n",
    "PyPlot.matplotlib[:rc](\"text\", usetex=true) # allow tex rendering"
   ]
  },
  {
   "cell_type": "code",
   "execution_count": 14,
   "id": "7a77dc0c",
   "metadata": {
    "execution": {
     "iopub.execute_input": "2023-08-20T19:38:03.252000Z",
     "iopub.status.busy": "2023-08-20T19:38:03.042000Z",
     "iopub.status.idle": "2023-08-20T19:38:04.162000Z",
     "shell.execute_reply": "2023-08-20T19:38:04.162000Z"
    }
   },
   "outputs": [
    {
     "name": "stdout",
     "output_type": "stream",
     "text": [
      "Create model instance.\n"
     ]
    },
    {
     "name": "stdout",
     "output_type": "stream",
     "text": [
      "  0.160508 seconds (1.05 M allocations: 67.922 MiB, 7.28% gc time)\n"
     ]
    }
   ],
   "source": [
    "# Create an instance of the model and solve it\n",
    "println(\"Create model instance.\")\n",
    "@time model = create_sdd_inventory_model();"
   ]
  },
  {
   "cell_type": "code",
   "execution_count": 15,
   "id": "d5978d39",
   "metadata": {
    "execution": {
     "iopub.execute_input": "2023-08-20T19:38:04.163000Z",
     "iopub.status.busy": "2023-08-20T19:38:04.163000Z",
     "iopub.status.idle": "2023-08-20T19:38:04.173000Z",
     "shell.execute_reply": "2023-08-20T19:38:04.173000Z"
    }
   },
   "outputs": [],
   "source": [
    "(; K, c, κ, p, r, R, y_vals, z_vals, Q) = model;\n",
    "n_z = length(z_vals)\n",
    "v_init = zeros(Float64, K+1, n_z);"
   ]
  },
  {
   "cell_type": "code",
   "execution_count": 16,
   "id": "8697c6b9",
   "metadata": {
    "execution": {
     "iopub.execute_input": "2023-08-20T19:38:04.174000Z",
     "iopub.status.busy": "2023-08-20T19:38:04.174000Z",
     "iopub.status.idle": "2023-08-20T19:38:07.733000Z",
     "shell.execute_reply": "2023-08-20T19:38:07.733000Z"
    }
   },
   "outputs": [
    {
     "name": "stdout",
     "output_type": "stream",
     "text": [
      "Solving model via OPI.\n"
     ]
    },
    {
     "name": "stdout",
     "output_type": "stream",
     "text": [
      "Completed iteration 10 with error 0.004848307991970557.\n"
     ]
    },
    {
     "name": "stdout",
     "output_type": "stream",
     "text": [
      "  3.543918 seconds (660.63 k allocations: 54.590 MiB, 8.30% compilation time)\n"
     ]
    }
   ],
   "source": [
    "println(\"Solving model via OPI.\")\n",
    "@time v_star, σ_star = optimistic_policy_iteration(v_init, \n",
    "                                                   model,\n",
    "                                                   verbose=true);"
   ]
  },
  {
   "cell_type": "code",
   "execution_count": 17,
   "id": "c3042c63",
   "metadata": {
    "execution": {
     "iopub.execute_input": "2023-08-20T19:38:07.735000Z",
     "iopub.status.busy": "2023-08-20T19:38:07.735000Z",
     "iopub.status.idle": "2023-08-20T19:39:02.936000Z",
     "shell.execute_reply": "2023-08-20T19:39:02.936000Z"
    }
   },
   "outputs": [
    {
     "name": "stdout",
     "output_type": "stream",
     "text": [
      "Solving model via VFI.\n"
     ]
    },
    {
     "name": "stdout",
     "output_type": "stream",
     "text": [
      "Completed iteration 25 with error 0.5739779924809785.\n"
     ]
    },
    {
     "name": "stdout",
     "output_type": "stream",
     "text": [
      "Completed iteration 50 with error 0.4016430079271913.\n"
     ]
    },
    {
     "name": "stdout",
     "output_type": "stream",
     "text": [
      "Completed iteration 75 with error 0.25370625675735425.\n"
     ]
    },
    {
     "name": "stdout",
     "output_type": "stream",
     "text": [
      "Completed iteration 100 with error 0.15160902156796396.\n"
     ]
    },
    {
     "name": "stdout",
     "output_type": "stream",
     "text": [
      "Completed iteration 125 with error 0.08410577632668037.\n"
     ]
    },
    {
     "name": "stdout",
     "output_type": "stream",
     "text": [
      "Completed iteration 150 with error 0.04033201378753404.\n"
     ]
    },
    {
     "name": "stdout",
     "output_type": "stream",
     "text": [
      "Completed iteration 175 with error 0.02018995695343051.\n"
     ]
    },
    {
     "name": "stdout",
     "output_type": "stream",
     "text": [
      "Completed iteration 200 with error 0.01116831777933669.\n"
     ]
    },
    {
     "name": "stdout",
     "output_type": "stream",
     "text": [
      "Completed iteration 225 with error 0.006278262218593511.\n"
     ]
    },
    {
     "name": "stdout",
     "output_type": "stream",
     "text": [
      "Completed iteration 250 with error 0.0035278040512025655.\n"
     ]
    },
    {
     "name": "stdout",
     "output_type": "stream",
     "text": [
      "Completed iteration 275 with error 0.001980897681761462.\n"
     ]
    },
    {
     "name": "stdout",
     "output_type": "stream",
     "text": [
      "Completed iteration 300 with error 0.0011118451957941033.\n"
     ]
    },
    {
     "name": "stdout",
     "output_type": "stream",
     "text": [
      "Completed iteration 325 with error 0.0006239198084330155.\n"
     ]
    },
    {
     "name": "stdout",
     "output_type": "stream",
     "text": [
      "Completed iteration 350 with error 0.0003500730069347924.\n"
     ]
    },
    {
     "name": "stdout",
     "output_type": "stream",
     "text": [
      "Completed iteration 375 with error 0.00019640746908322626.\n"
     ]
    },
    {
     "name": "stdout",
     "output_type": "stream",
     "text": [
      "Completed iteration 400 with error 0.00011018953769337259.\n"
     ]
    },
    {
     "name": "stdout",
     "output_type": "stream",
     "text": [
      "Completed iteration 425 with error 6.181775446378879e-5.\n"
     ]
    },
    {
     "name": "stdout",
     "output_type": "stream",
     "text": [
      "Completed iteration 450 with error 3.468013563434624e-5.\n"
     ]
    },
    {
     "name": "stdout",
     "output_type": "stream",
     "text": [
      "Completed iteration 475 with error 1.9455634081566586e-5.\n"
     ]
    },
    {
     "name": "stdout",
     "output_type": "stream",
     "text": [
      "Completed iteration 500 with error 1.091461294322471e-5.\n"
     ]
    },
    {
     "name": "stdout",
     "output_type": "stream",
     "text": [
      "Completed iteration 525 with error 6.123086102149955e-6.\n"
     ]
    },
    {
     "name": "stdout",
     "output_type": "stream",
     "text": [
      "Completed iteration 550 with error 3.435040639487852e-6.\n"
     ]
    },
    {
     "name": "stdout",
     "output_type": "stream",
     "text": [
      "Completed iteration 575 with error 1.927050540473374e-6.\n"
     ]
    },
    {
     "name": "stdout",
     "output_type": "stream",
     "text": [
      "Completed iteration 600 with error 1.0810708843678185e-6.\n"
     ]
    },
    {
     "name": "stdout",
     "output_type": "stream",
     "text": [
      "Terminated successfully in 605 iterations.\n",
      " 55.185936 seconds (205.35 k allocations: 31.036 MiB, 0.03% gc time, 0.15% compilation time)\n"
     ]
    }
   ],
   "source": [
    "println(\"Solving model via VFI.\")\n",
    "@time v_star_vfi, σ_star_vfi = value_function_iteration(v_init, \n",
    "                                                        model,\n",
    "                                                        verbose=true);"
   ]
  },
  {
   "cell_type": "code",
   "execution_count": 18,
   "id": "03568c04",
   "metadata": {
    "execution": {
     "iopub.execute_input": "2023-08-20T19:39:02.938000Z",
     "iopub.status.busy": "2023-08-20T19:39:02.938000Z",
     "iopub.status.idle": "2023-08-20T19:39:04.371000Z",
     "shell.execute_reply": "2023-08-20T19:39:04.371000Z"
    },
    "lines_to_next_cell": 2
   },
   "outputs": [
    {
     "name": "stdout",
     "output_type": "stream",
     "text": [
      "Solving model via HPI.\n"
     ]
    },
    {
     "name": "stdout",
     "output_type": "stream",
     "text": [
      "Concluded loop 1 with error 71.\n"
     ]
    },
    {
     "name": "stdout",
     "output_type": "stream",
     "text": [
      "Concluded loop 2 with error 64.\n"
     ]
    },
    {
     "name": "stdout",
     "output_type": "stream",
     "text": [
      "Concluded loop 3 with error 34.\n"
     ]
    },
    {
     "name": "stdout",
     "output_type": "stream",
     "text": [
      "Concluded loop 4 with error 33.\n"
     ]
    },
    {
     "name": "stdout",
     "output_type": "stream",
     "text": [
      "Concluded loop 5 with error 24.\n"
     ]
    },
    {
     "name": "stdout",
     "output_type": "stream",
     "text": [
      "Concluded loop 6 with error 25.\n"
     ]
    },
    {
     "name": "stdout",
     "output_type": "stream",
     "text": [
      "Concluded loop 7 with error 25.\n"
     ]
    },
    {
     "name": "stdout",
     "output_type": "stream",
     "text": [
      "Concluded loop 8 with error 0.\n",
      "  1.417638 seconds (469.69 k allocations: 301.000 MiB, 2.10% gc time, 16.75% compilation time)\n"
     ]
    }
   ],
   "source": [
    "println(\"Solving model via HPI.\")\n",
    "@time v_star_hpi, σ_star_hpi = howard_policy_iteration(v_init, model);"
   ]
  },
  {
   "cell_type": "code",
   "execution_count": 19,
   "id": "f5f49959",
   "metadata": {
    "execution": {
     "iopub.execute_input": "2023-08-20T19:39:04.373000Z",
     "iopub.status.busy": "2023-08-20T19:39:04.373000Z",
     "iopub.status.idle": "2023-08-20T19:39:04.415000Z",
     "shell.execute_reply": "2023-08-20T19:39:04.415000Z"
    }
   },
   "outputs": [
    {
     "data": {
      "text/plain": [
       "sim_inventories"
      ]
     },
     "execution_count": 19,
     "metadata": {},
     "output_type": "execute_result"
    }
   ],
   "source": [
    "\"Simulate given the optimal policy.\"\n",
    "function sim_inventories(ts_length; X_init=0, seed=500)\n",
    "    Random.seed!(seed) \n",
    "    z_mc = MarkovChain(Q, z_vals)\n",
    "    i_z = simulate_indices(z_mc, ts_length, init=1)\n",
    "    G = Geometric(p)\n",
    "    X = zeros(Int32, ts_length)\n",
    "    X[1] = X_init\n",
    "    for t in 1:(ts_length-1)\n",
    "        D′ = rand(G)\n",
    "        x_index = X[t] + 1\n",
    "        a = σ_star[x_index, i_z[t]] - 1\n",
    "        X[t+1] = f(X[t],  a,  D′)\n",
    "    end\n",
    "    return X, z_vals[i_z]\n",
    "end"
   ]
  },
  {
   "cell_type": "code",
   "execution_count": 20,
   "id": "4fa39cf6",
   "metadata": {
    "execution": {
     "iopub.execute_input": "2023-08-20T19:39:04.417000Z",
     "iopub.status.busy": "2023-08-20T19:39:04.417000Z",
     "iopub.status.idle": "2023-08-20T19:39:04.538000Z",
     "shell.execute_reply": "2023-08-20T19:39:04.538000Z"
    }
   },
   "outputs": [
    {
     "data": {
      "text/plain": [
       "plot_ts (generic function with 1 method)"
      ]
     },
     "execution_count": 20,
     "metadata": {},
     "output_type": "execute_result"
    }
   ],
   "source": [
    "function plot_ts(; ts_length=400,\n",
    "                   fontsize=16, \n",
    "                   figname=\"../figures/inventory_sdd_ts.pdf\",\n",
    "                   savefig=false)\n",
    "    X, Z = sim_inventories(ts_length)\n",
    "    fig, axes = plt.subplots(2, 1, figsize=(9, 5.5))\n",
    "\n",
    "    ax = axes[1]\n",
    "    ax.plot(X, label=\"inventory\", alpha=0.7)\n",
    "    ax.set_xlabel(L\"t\", fontsize=fontsize)\n",
    "    ax.legend(fontsize=fontsize, frameon=false)\n",
    "    ax.set_ylim(0, maximum(X)+3)\n",
    "\n",
    "    # calculate interest rate from discount factors\n",
    "    r = (1 ./ Z) .- 1\n",
    "\n",
    "    ax = axes[2]\n",
    "    ax.plot(r, label=L\"r_t\", alpha=0.7)\n",
    "    ax.set_xlabel(L\"t\", fontsize=fontsize)\n",
    "    ax.legend(fontsize=fontsize, frameon=false)\n",
    "    #ax.set_ylim(0, maximum(X)+8)\n",
    "\n",
    "    plt.tight_layout()\n",
    "    plt.show()\n",
    "    if savefig == true\n",
    "        fig.savefig(figname)\n",
    "    end\n",
    "end"
   ]
  },
  {
   "cell_type": "code",
   "execution_count": 21,
   "id": "f8c7d9c3",
   "metadata": {
    "execution": {
     "iopub.execute_input": "2023-08-20T19:39:04.540000Z",
     "iopub.status.busy": "2023-08-20T19:39:04.540000Z",
     "iopub.status.idle": "2023-08-20T19:39:04.601000Z",
     "shell.execute_reply": "2023-08-20T19:39:04.601000Z"
    }
   },
   "outputs": [
    {
     "data": {
      "text/plain": [
       "plot_timing (generic function with 1 method)"
      ]
     },
     "execution_count": 21,
     "metadata": {},
     "output_type": "execute_result"
    }
   ],
   "source": [
    "function plot_timing(; m_vals=collect(range(1, 100, step=20)),\n",
    "                       fontsize=12)\n",
    "\n",
    "    println(\"Running Howard policy iteration.\")\n",
    "    hpi_time = @elapsed _ = howard_policy_iteration(v_init, model)\n",
    "    println(\"HPI completed in $hpi_time seconds.\")\n",
    "\n",
    "    println(\"Running value function iteration.\")\n",
    "    vfi_time = @elapsed _ = value_function_iteration(v_init, model)\n",
    "    println(\"VFI completed in $vfi_time seconds.\")\n",
    "\n",
    "    println(\"Starting Howard policy iteration.\")\n",
    "    opi_times = []\n",
    "    for m in m_vals\n",
    "        println(\"Running optimistic policy iteration with m=$m.\")\n",
    "        opi_time = @elapsed σ_opi = optimistic_policy_iteration(v_init, model, m=m)\n",
    "        println(\"OPI with m=$m completed in $opi_time seconds.\")\n",
    "        push!(opi_times, opi_time)\n",
    "    end\n",
    "\n",
    "    fig, ax = plt.subplots(figsize=(9, 5.2))\n",
    "    ax.plot(m_vals, fill(hpi_time, length(m_vals)), \n",
    "            lw=2, label=\"Howard policy iteration\")\n",
    "    ax.plot(m_vals, fill(vfi_time, length(m_vals)), \n",
    "            lw=2, label=\"value function iteration\")\n",
    "    ax.plot(m_vals, opi_times, lw=2, label=\"optimistic policy iteration\")\n",
    "    ax.legend(fontsize=fontsize, frameon=false)\n",
    "    ax.set_xlabel(L\"m\", fontsize=fontsize)\n",
    "    ax.set_ylabel(\"time\", fontsize=fontsize)\n",
    "    plt.show()\n",
    "\n",
    "    return (hpi_time, vfi_time, opi_times)\n",
    "end"
   ]
  },
  {
   "cell_type": "code",
   "execution_count": 22,
   "id": "53ecd185",
   "metadata": {
    "execution": {
     "iopub.execute_input": "2023-08-20T19:39:04.603000Z",
     "iopub.status.busy": "2023-08-20T19:39:04.603000Z",
     "iopub.status.idle": "2023-08-20T19:41:15.683000Z",
     "shell.execute_reply": "2023-08-20T19:41:15.683000Z"
    }
   },
   "outputs": [
    {
     "name": "stdout",
     "output_type": "stream",
     "text": [
      "Running Howard policy iteration.\n"
     ]
    },
    {
     "name": "stdout",
     "output_type": "stream",
     "text": [
      "Concluded loop 1 with error 71.\n"
     ]
    },
    {
     "name": "stdout",
     "output_type": "stream",
     "text": [
      "Concluded loop 2 with error 64.\n"
     ]
    },
    {
     "name": "stdout",
     "output_type": "stream",
     "text": [
      "Concluded loop 3 with error 34.\n"
     ]
    },
    {
     "name": "stdout",
     "output_type": "stream",
     "text": [
      "Concluded loop 4 with error 33.\n"
     ]
    },
    {
     "name": "stdout",
     "output_type": "stream",
     "text": [
      "Concluded loop 5 with error 24.\n"
     ]
    },
    {
     "name": "stdout",
     "output_type": "stream",
     "text": [
      "Concluded loop 6 with error 25.\n"
     ]
    },
    {
     "name": "stdout",
     "output_type": "stream",
     "text": [
      "Concluded loop 7 with error 25.\n"
     ]
    },
    {
     "name": "stdout",
     "output_type": "stream",
     "text": [
      "Concluded loop 8 with error 0.\n",
      "HPI completed in 1.131828648 seconds.\n",
      "Running value function iteration.\n"
     ]
    },
    {
     "name": "stdout",
     "output_type": "stream",
     "text": [
      "Terminated successfully in 605 iterations.\n",
      "VFI completed in 56.296294633 seconds.\n",
      "Starting Howard policy iteration.\n",
      "Running optimistic policy iteration with m=1.\n"
     ]
    },
    {
     "name": "stdout",
     "output_type": "stream",
     "text": [
      "OPI with m=1 completed in 56.66504003 seconds.\n",
      "Running optimistic policy iteration with m=21.\n"
     ]
    },
    {
     "name": "stdout",
     "output_type": "stream",
     "text": [
      "OPI with m=21 completed in 4.605200842 seconds.\n",
      "Running optimistic policy iteration with m=41.\n"
     ]
    },
    {
     "name": "stdout",
     "output_type": "stream",
     "text": [
      "OPI with m=41 completed in 3.32626344 seconds.\n",
      "Running optimistic policy iteration with m=61.\n"
     ]
    },
    {
     "name": "stdout",
     "output_type": "stream",
     "text": [
      "OPI with m=61 completed in 3.44563125 seconds.\n",
      "Running optimistic policy iteration with m=81.\n"
     ]
    },
    {
     "name": "stdout",
     "output_type": "stream",
     "text": [
      "OPI with m=81 completed in 3.150136571 seconds.\n"
     ]
    },
    {
     "data": {
      "text/plain": [
       "Figure(PyObject <Figure size 900x520 with 1 Axes>)"
      ]
     },
     "metadata": {},
     "output_type": "display_data"
    },
    {
     "data": {
      "text/plain": [
       "(1.131828648, 56.296294633, Any[56.66504003, 4.605200842, 3.32626344, 3.44563125, 3.150136571])"
      ]
     },
     "execution_count": 22,
     "metadata": {},
     "output_type": "execute_result"
    }
   ],
   "source": [
    "hpi_time, vfi_time, opi_times = plot_timing()"
   ]
  },
  {
   "cell_type": "code",
   "execution_count": 23,
   "id": "cdbacf63",
   "metadata": {
    "execution": {
     "iopub.execute_input": "2023-08-20T19:41:15.685000Z",
     "iopub.status.busy": "2023-08-20T19:41:15.685000Z",
     "iopub.status.idle": "2023-08-20T19:41:15.722000Z",
     "shell.execute_reply": "2023-08-20T19:41:15.722000Z"
    }
   },
   "outputs": [
    {
     "name": "stdout",
     "output_type": "stream",
     "text": [
      "\n",
      "Run times relative to HPI:\n",
      "\n",
      "HPI = 1.131828648\n",
      "VFI / HPI = 49.739238119196294\n",
      "best OPI / HPI = 2.783227458119615\n"
     ]
    }
   ],
   "source": [
    "println(\"\\nRun times relative to HPI:\\n\")\n",
    "println(\"HPI = $hpi_time\")\n",
    "println(\"VFI / HPI = $(vfi_time / hpi_time)\")\n",
    "println(\"best OPI / HPI = $(minimum(opi_times) / hpi_time)\")"
   ]
  }
 ],
 "metadata": {
  "jupytext": {
   "cell_metadata_filter": "-all",
   "main_language": "julia",
   "notebook_metadata_filter": "-all"
  },
  "kernelspec": {
   "display_name": "Julia 1.7.3",
   "language": "julia",
   "name": "julia-1.7"
  },
  "language_info": {
   "file_extension": ".jl",
   "mimetype": "application/julia",
   "name": "julia",
   "version": "1.7.3"
  }
 },
 "nbformat": 4,
 "nbformat_minor": 5
}
